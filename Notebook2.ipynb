{
 "cells": [
  {
   "cell_type": "code",
   "execution_count": 211,
   "id": "3d11ff7f",
   "metadata": {
    "id": "3d11ff7f"
   },
   "outputs": [],
   "source": [
    "import numpy as np\n",
    "import random\n",
    "import torch\n",
    "torch.set_default_dtype(torch.float64)\n",
    "from scipy.sparse.linalg import LinearOperator\n",
    "from scipy.special import softmax\n",
    "import numpy as np\n",
    "import matplotlib.pyplot as plt"
   ]
  },
  {
   "cell_type": "markdown",
   "id": "fc93def5",
   "metadata": {
    "id": "fc93def5"
   },
   "source": [
    "Tout d'abord on crée la fonction"
   ]
  },
  {
   "cell_type": "code",
   "execution_count": 274,
   "id": "1090b53c",
   "metadata": {
    "executionInfo": {
     "elapsed": 8559,
     "status": "ok",
     "timestamp": 1733315276155,
     "user": {
      "displayName": "natael natael",
      "userId": "18076419857196063994"
     },
     "user_tz": -60
    },
    "id": "1090b53c"
   },
   "outputs": [],
   "source": [
    "\n",
    "\n",
    "class Problem:\n",
    "    def __init__(self, U, V, mu, nu, q, epsilon):\n",
    "        self.U = U  # (nb_receivers, nb_states, nb_actions)\n",
    "        self.V = V  # (nb_states, nb_actions)\n",
    "        self.mu = mu  # (nb_states,)\n",
    "        self.nu = nu  # (nb_receivers, nb_states)\n",
    "        self.q = q  # (nb_receivers, nb_messages, nb_actions)\n",
    "        self.epsilon = epsilon  # (nb_receivers,)\n",
    "        self.nb_receivers, self.nb_states, self.nb_actions = U.shape\n",
    "        self.nb_messages = q.shape[1]\n",
    "        self.size = self.nb_receivers * self.nb_states * self.nb_messages\n",
    "        self.shape = (self.nb_receivers, self.nb_states, self.nb_messages)\n",
    "        self.check()\n",
    "\n",
    "    def check(self):\n",
    "        for receiver_idx in range(self.nb_receivers):\n",
    "            self.debug_shape(self.U[receiver_idx], [self.nb_states, self.nb_actions])\n",
    "            self.debug_shape(self.V, [self.nb_states, self.nb_actions])\n",
    "            self.debug_shape(self.mu, [self.nb_states])\n",
    "            self.debug_shape(self.nu[receiver_idx], [self.nb_states])\n",
    "            self.debug_shape(self.q[receiver_idx], [self.nb_messages, self.nb_actions])\n",
    "\n",
    "    def debug_shape(self, vect, target_shape):\n",
    "        if list(vect.shape) != target_shape:\n",
    "            print(f\"Found vector of size {vect.shape}, expected {target_shape}\")\n",
    "            assert False\n",
    "\n",
    "    def verbose(self, pi):\n",
    "        print(f\"We have (state, message, action) = ({self.nb_states}, {self.nb_messages}, {self.nb_actions})\")\n",
    "        self.debug_shape(pi, [self.nb_states, self.nb_messages])\n",
    "        for receiver_idx in range(self.nb_receivers):\n",
    "            theta = self.compute_theta(self.compute_g(pi, receiver_idx), receiver_idx)\n",
    "            self.debug_shape(theta, [self.nb_messages, self.nb_actions])\n",
    "            print(f\"We have 1 = {pi.sum(axis=1)}\")\n",
    "            print(f\"We have 1 = {theta.sum(axis=1)}\")\n",
    "            print(\"Theta\", theta)\n",
    "        print(\"Objective\", self.objective(pi, range(self.nb_receivers)))\n",
    "\n",
    "    def compute_g(self, pi, receiver_idx):\n",
    "        denominator = (pi * self.nu[receiver_idx][:, None]).sum(axis=0)\n",
    "        self.debug_shape(denominator, [self.nb_messages])\n",
    "        g = (pi[:, :, None] * self.nu[receiver_idx][:, None, None] * self.U[receiver_idx][:, None, :]).sum(axis=0)\n",
    "        self.debug_shape(g, [self.nb_messages, self.nb_actions])\n",
    "        return g / denominator[:, None]\n",
    "\n",
    "    def compute_theta(self, g, receiver_idx):\n",
    "        max_g, _ = g.max(axis=1)\n",
    "        exp = torch.exp((g - max_g[:, None]) / self.epsilon[receiver_idx])\n",
    "        self.debug_shape(exp, [self.nb_messages, self.nb_actions])\n",
    "        theta = self.q[receiver_idx] * exp\n",
    "        denom = theta.sum(axis=1)\n",
    "        return theta / denom[:, None]\n",
    "\n",
    "    def objective(self, pi, receivers_batch):\n",
    "        total_objective = 0\n",
    "        for receiver_idx in receivers_batch:\n",
    "            g = self.compute_g(pi, receiver_idx)\n",
    "            theta = self.compute_theta(g, receiver_idx)\n",
    "            total_objective += (theta[None, :, :] * pi[:, :, None] * self.mu[:, None, None] * self.V[:, None, :]).sum()\n",
    "        return total_objective / len(receivers_batch)\n",
    "\n",
    "    def value(self, x, receivers_batch=None):\n",
    "        if receivers_batch is None:\n",
    "            receivers_batch = range(self.nb_receivers)\n",
    "        x = x.reshape(self.nb_states, self.nb_messages)\n",
    "        x = torch.from_numpy(x).requires_grad_(True)\n",
    "        f = self.objective(x, receivers_batch)\n",
    "        f.backward()\n",
    "        df = x.grad\n",
    "        return -f.item(), -df.numpy()\n",
    "\n",
    "    def project(self, x):\n",
    "        x = torch.from_numpy(x).reshape(self.nb_states, self.nb_messages)\n",
    "        x_projected = torch.zeros_like(x)\n",
    "        for i in range(x.shape[0]):\n",
    "            row = x[i, :]\n",
    "            sorted_row, _ = torch.sort(row, descending=True)\n",
    "            cumulative_sum = torch.cumsum(sorted_row, dim=0)\n",
    "            rho = torch.nonzero(sorted_row * torch.arange(1, len(row) + 1) > (cumulative_sum - 1), as_tuple=False).max()\n",
    "            theta = (cumulative_sum[rho] - 1) / (rho + 1)\n",
    "            x_projected[i, :] = torch.clamp(row - theta, min=0)\n",
    "        return x_projected.numpy()\n",
    "\n",
    "    def project_tangent(self, x, d):\n",
    "        d2 = d - d.mean(axis=1)[:, None]\n",
    "        d2[(x == 0) * (d2 < 0)] = 0.\n",
    "        d2[(x == 1) * (d2 > 0)] = 0.\n",
    "        return d2\n"
   ]
  },
  {
   "cell_type": "code",
   "execution_count": 275,
   "id": "2add6d42",
   "metadata": {
    "executionInfo": {
     "elapsed": 241,
     "status": "ok",
     "timestamp": 1733315280638,
     "user": {
      "displayName": "natael natael",
      "userId": "18076419857196063994"
     },
     "user_tz": -60
    },
    "id": "2add6d42"
   },
   "outputs": [],
   "source": [
    "\n",
    "\n",
    "def dot(a, b):\n",
    "    return (a * b).sum()\n",
    "\n",
    "def ls_wolfe(x, function, step, descent, f, df, batch):\n",
    "    \"\"\"\n",
    "    Wolfe line search for stochastic gradient descent.\n",
    "    \"\"\"\n",
    "    step_min, step_max = 0., np.inf\n",
    "    scal = dot(df, descent)\n",
    "    if scal > 0:\n",
    "        print('WARNING with scal', scal)\n",
    "    step2 = step\n",
    "    eps1, eps2 = 1.e-4, 0.9  # Wolfe condition parameters\n",
    "    i = 0\n",
    "    while i < 100:\n",
    "        i += 1\n",
    "        x2 = function.project(x + step2 * descent)\n",
    "        f2, df2 = function.value(x2, batch)\n",
    "        if dot(x2 - x, df) >= 0:\n",
    "            print('We have a problem', dot(x2 - x, df), dot(descent, df))\n",
    "        if f2 > f + eps1 * dot(x2 - x, df):  # step is too big, decrease it\n",
    "            step_max = step2\n",
    "            step2 = 0.5 * (step_min + step_max)\n",
    "        else:\n",
    "            if dot(df2, x2 - x) < eps2 * dot(df, x2 - x):  # step is too small, increase it\n",
    "                step_min = step2\n",
    "                step2 = min(0.5 * (step_min + step_max), 2 * step_min)\n",
    "            else:\n",
    "                return x2, f2, df2, step2\n",
    "    print('We do not exit Wolfe')\n",
    "    return x2, f2, df2, step2\n",
    "\n",
    "\n",
    "def dot(a,b) :\n",
    "    return (a*b).sum()\n",
    "\n",
    "def ls_wolfe(x,function,step,descent,f,df,batch) :\n",
    "    step_min,step_max=0.,np.inf\n",
    "    scal=dot(df,descent)\n",
    "    if scal > 0 :\n",
    "        print('WARNING with scal',scal)\n",
    "    step2=step\n",
    "    eps1,eps2=1.e-4,0.9\n",
    "    i=0\n",
    "    while i<100 :\n",
    "        i=i+1\n",
    "        x2=function.project(x+step2*descent)\n",
    "        f2,df2=function.value(x2,batch)\n",
    "        if dot(x2-x,df) >=0 :\n",
    "            print('We have a problem',dot(x2-x,df),dot(descent,df))\n",
    "        if f2>f+eps1*dot(x2-x,df) : # step is too big, decrease it\n",
    "            step_max=step2\n",
    "            step2=0.5*(step_min+step_max)\n",
    "        else :\n",
    "            if dot(df2,x2-x) < eps2*dot(df,x2-x) : # step is too small, increase it\n",
    "                step_min=step2\n",
    "                step2=min(0.5*(step_min+step_max),2*step_min)\n",
    "            else :\n",
    "                return x2,f2,df2,step2\n",
    "    print('We do not exit Wolfe')\n",
    "    print(f2>f+eps1*step2*scal,dot(df2,descent) < eps2*scal)\n",
    "    return x2,f2,df2,step2\n",
    "\n",
    "\n",
    "\n",
    "\n",
    "def optimize(function,itermax = 5000,tol=1.e-4,batch_size = 100,verbose=True):\n",
    "    np.random.seed(42)\n",
    "    receivers = list(range(function.nb_receivers))\n",
    "    x = np.random.randn(function.nb_states, function.nb_messages)\n",
    "    x=function.project(x)\n",
    "    np.random.seed(None)\n",
    "    list_costs=[]\n",
    "    list_grads=[]\n",
    "    nbiter = 0\n",
    "    batch = np.random.choice(receivers, size=batch_size, replace=False)\n",
    "    f,df=function.value(x,batch)\n",
    "    df_tangent=function.project_tangent(x,-df)\n",
    "    norm_grad=np.linalg.norm(df_tangent)\n",
    "    err=2*tol\n",
    "    if verbose :\n",
    "        print('iter={:4d} f={:1.3e} df={:1.3e}'.format(nbiter,f,err))\n",
    "    list_costs.append(f)\n",
    "    list_grads.append(norm_grad)\n",
    "    while (err > tol) and (nbiter < itermax):\n",
    "        descent=-df\n",
    "        x_old=np.copy(x)\n",
    "        x,f,df,step = ls_wolfe(x, function,1., descent,f,df,batch)\n",
    "        batch = np.random.choice(receivers, size=batch_size, replace=False)\n",
    "        norm_grad = np.linalg.norm(function.project_tangent(x,-df))\n",
    "        list_costs.append(f)\n",
    "        list_grads.append(norm_grad)\n",
    "        err=norm_grad\n",
    "        nbiter+=1\n",
    "        if verbose :\n",
    "            print('iter={:4d} f={:1.3e} err={:1.3e} s={:1.3e}'.format(nbiter,f,err,step))\n",
    "        if (err <= tol):\n",
    "            if verbose : print(\"Success !!! Algorithm converged !!!\")\n",
    "            return x,list_costs,list_grads\n",
    "    if verbose : print(\"FAILED to converge\")\n",
    "\n",
    "\n",
    "def stochastic_optimize(function,itermax = 5000,tol=1.e-5,batch_size = 100,verbose=True):\n",
    "    np.random.seed(42)\n",
    "    receivers = list(range(function.nb_receivers))\n",
    "    x = np.random.randn(function.nb_states, function.nb_messages)\n",
    "    x=function.project(x)\n",
    "    np.random.seed(None)\n",
    "    list_costs=[]\n",
    "    list_grads=[]\n",
    "    nbiter = 0\n",
    "    batch = np.random.choice(receivers, size=batch_size, replace=False)\n",
    "    f,df=function.value(x,batch)\n",
    "    df_tangent=function.project_tangent(x,-df)\n",
    "    norm_grad=np.linalg.norm(df_tangent)\n",
    "    err=2*tol\n",
    "    if verbose :\n",
    "        print('iter={:4d} f={:1.3e} df={:1.3e}'.format(nbiter,f,err))\n",
    "    list_costs.append(f)\n",
    "    list_grads.append(norm_grad)\n",
    "    while (err > tol) and (nbiter < itermax):\n",
    "        nbiter+=1\n",
    "        x_old=np.copy(x)\n",
    "        batch = np.random.choice(receivers, size=batch_size, replace=False)\n",
    "        x = function.project(x - ( 0.01 ) * df)\n",
    "        f,df = function.value(x,batch)\n",
    "        norm_grad = np.linalg.norm(function.project_tangent(x,-df))\n",
    "        list_costs.append(f)\n",
    "        list_grads.append(norm_grad)\n",
    "        err=norm_grad\n",
    "        if verbose :\n",
    "            print('iter={:4d} f={:1.3e} err={:1.3e}'.format(nbiter,f,err))\n",
    "        if (err <= tol):\n",
    "            if verbose : print(\"Success !!! Algorithm converged !!!\")\n",
    "            return x,list_costs,list_grads\n",
    "    if verbose : print(\"FAILED to converge\")\n",
    "\n",
    "\n",
    "def stochastic_optimize_epochs(function, max_epochs=20, batch_size=100, verbose=True,seed=None):\n",
    "    import numpy as np\n",
    "\n",
    "    np.random.seed(42)\n",
    "    receivers = list(range(function.nb_receivers))\n",
    "    x = np.random.randn(function.nb_states, function.nb_messages)\n",
    "    x = function.project(x)\n",
    "    np.random.seed(seed)\n",
    "\n",
    "    list_costs = []\n",
    "    list_grads = []\n",
    "\n",
    "    for epoch in range(max_epochs):\n",
    "        # Shuffle the dataset\n",
    "        np.random.shuffle(receivers)\n",
    "        total_batches = len(receivers) // batch_size\n",
    "\n",
    "        for batch_idx in range(total_batches):\n",
    "            batch = receivers[batch_idx * batch_size:(batch_idx + 1) * batch_size]\n",
    "            f, df = function.value(x, batch)\n",
    "            df_tangent = function.project_tangent(x, -df)\n",
    "            x = function.project(x - 0.001 * df)\n",
    "\n",
    "        # At the end of the epoch, calculate f and gradient for the full dataset\n",
    "        f, df = function.value(x, receivers)\n",
    "        norm_grad = np.linalg.norm(function.project_tangent(x, -df))\n",
    "\n",
    "        list_costs.append(f)\n",
    "        list_grads.append(norm_grad)\n",
    "\n",
    "        if verbose:\n",
    "            print(f\"Epoch {epoch + 1}/{max_epochs} - f: {f:.3e} - grad_norm: {norm_grad:.3e}\")\n",
    "\n",
    "\n",
    "    return x, list_costs, list_grads\n",
    "\n"
   ]
  },
  {
   "cell_type": "markdown",
   "id": "cd445d3b",
   "metadata": {
    "id": "cd445d3b"
   },
   "source": [
    "On crée 1000 variations d'un receiver de base"
   ]
  },
  {
   "cell_type": "code",
   "execution_count": 276,
   "id": "d418afb9",
   "metadata": {
    "colab": {
     "base_uri": "https://localhost:8080/"
    },
    "executionInfo": {
     "elapsed": 458,
     "status": "ok",
     "timestamp": 1733315288199,
     "user": {
      "displayName": "natael natael",
      "userId": "18076419857196063994"
     },
     "user_tz": -60
    },
    "id": "d418afb9",
    "outputId": "bddddcd0-b013-4a4c-ef0f-d714ab1420ca",
    "scrolled": false
   },
   "outputs": [
    {
     "name": "stdout",
     "output_type": "stream",
     "text": [
      "Exemple de U : tensor([[1.0337, 0.0129],\n",
      "        [0.0234, 1.0230]])\n",
      "Exemple de nu (somme = 1) : tensor([0.7261, 0.2739]) Somme = tensor(1.0000)\n",
      "Exemple de q (lignes identiques, somme = 1) : tensor([[0.8946, 0.1054],\n",
      "        [0.8946, 0.1054]]) Somme des lignes = tensor([1., 1.])\n",
      "Exemple de epsilon : tensor([0.0150, 0.0086, 0.0165, 0.0252, 0.0077, 0.0077, 0.0258, 0.0177, 0.0053,\n",
      "        0.0154])\n"
     ]
    }
   ],
   "source": [
    "alpha = 0.7\n",
    "beta = 0.9\n",
    "\n",
    "# Initialisation des matrices de base\n",
    "nb_receivers = 1000\n",
    "nb_states = 2\n",
    "nb_actions = 2\n",
    "nb_messages = 2\n",
    "\n",
    "U_base = torch.tensor([[1.0, 0.0], [0.0, 1.0]], dtype=torch.float64)  # Matrice U de base\n",
    "nu_base = torch.tensor([alpha, 1 - alpha], dtype=torch.float64)  # Distribution de probabilité de base pour nu\n",
    "q_base = torch.tensor([beta, 1 - beta], dtype=torch.float64)  # Une seule ligne pour q de base\n",
    "epsilon_base = 1e-2  # Valeur de base pour epsilon\n",
    "\n",
    "mu = torch.tensor([alpha, 1 - alpha])\n",
    "\n",
    "# Fonction pour ajouter du bruit à une matrice tout en conservant les propriétés des distributions\n",
    "def add_noise_to_distribution(base_vector, noise_level):\n",
    "    noisy_vector = base_vector + noise_level * torch.randn_like(base_vector)\n",
    "    noisy_vector = torch.clamp(noisy_vector, min=1e-8)  # Évite les valeurs négatives\n",
    "    return noisy_vector / noisy_vector.sum()  # Normalisation pour conserver les distributions\n",
    "\n",
    "\n",
    "def add_noise_to_distribution(base_vector, noise_level):\n",
    "    noise = noise_level * torch.randn(1, dtype=base_vector.dtype)\n",
    "    \n",
    "    # Application du bruit au vecteur\n",
    "    noisy_vector = base_vector + noise\n",
    "    \n",
    "    # Normalisation avec softmax(log(...))\n",
    "    normalized_vector = torch.softmax(torch.log(noisy_vector), dim=-1)\n",
    "    \n",
    "    return normalized_vector\n",
    "\n",
    "\n",
    "\n",
    "\n",
    "# Génération des variations\n",
    "noise_level_U = 0.1\n",
    "noise_level_nu = 0.05\n",
    "noise_level_q = 0.01\n",
    "noise_level_epsilon = 0.01\n",
    "\n",
    "torch.manual_seed(42)\n",
    "np.random.seed(42)\n",
    "\n",
    "U = torch.stack([U_base + noise_level_U * torch.randn_like(U_base) for _ in range(nb_receivers)])\n",
    "nu = torch.stack([add_noise_to_distribution(nu_base, noise_level_nu) for _ in range(nb_receivers)])\n",
    "q = torch.stack([add_noise_to_distribution(q_base, noise_level_q).expand(nb_messages, -1) for _ in range(nb_receivers)])\n",
    "epsilon = torch.tensor([epsilon_base + noise_level_epsilon * np.random.randn() for _ in range(nb_receivers)])\n",
    "epsilon = torch.clamp(epsilon, min=1e-8)  # Assurez-vous que epsilon reste positif\n",
    "\n",
    "# Vérifications\n",
    "print(\"Exemple de U :\", U[0])\n",
    "print(\"Exemple de nu (somme = 1) :\", nu[0], \"Somme =\", nu[0].sum())\n",
    "print(\"Exemple de q (lignes identiques, somme = 1) :\", q[0], \"Somme des lignes =\", q[0].sum(dim=1))\n",
    "print(\"Exemple de epsilon :\", epsilon[:10])\n",
    "\n",
    "V = torch.tensor([[0.0, 1.0],\n",
    "                  [0.0, 1.0]])"
   ]
  },
  {
   "cell_type": "markdown",
   "id": "eaf4aa9e",
   "metadata": {
    "id": "eaf4aa9e"
   },
   "source": [
    "On optimise la \"vraie\" fonction (moyenne sur tous les Receivers) pour comparer ensuite avec l'optimisation sur des batchs"
   ]
  },
  {
   "cell_type": "code",
   "execution_count": 277,
   "id": "50200bc3",
   "metadata": {
    "executionInfo": {
     "elapsed": 235,
     "status": "ok",
     "timestamp": 1733315293754,
     "user": {
      "displayName": "natael natael",
      "userId": "18076419857196063994"
     },
     "user_tz": -60
    },
    "id": "50200bc3",
    "scrolled": false
   },
   "outputs": [],
   "source": [
    "# Création de l'objet Problem avec les données générées\n",
    "P = Problem(U, V, mu, nu, q, epsilon)\n",
    "\n",
    "#x,costs,grad=stochastic_optimize(P,tol=1.e-5,verbose=True,batch_size = 1000)"
   ]
  },
  {
   "cell_type": "code",
   "execution_count": 278,
   "id": "d68fc23d",
   "metadata": {
    "colab": {
     "base_uri": "https://localhost:8080/"
    },
    "executionInfo": {
     "elapsed": 30754,
     "status": "ok",
     "timestamp": 1733315327761,
     "user": {
      "displayName": "natael natael",
      "userId": "18076419857196063994"
     },
     "user_tz": -60
    },
    "id": "d68fc23d",
    "outputId": "86d1746b-2851-4de7-9df1-3ec0035680fe"
   },
   "outputs": [
    {
     "name": "stdout",
     "output_type": "stream",
     "text": [
      "iter=   0 f=-4.076e-01 df=2.000e-04\n",
      "iter=   1 f=-4.575e-01 err=3.221e-01 s=2.500e-01\n",
      "iter=   2 f=-4.627e-01 err=3.654e-01 s=1.000e+00\n",
      "iter=   3 f=-4.682e-01 err=1.041e-01 s=1.250e-01\n",
      "iter=   4 f=-4.689e-01 err=1.375e-02 s=2.500e-01\n",
      "iter=   5 f=-4.690e-01 err=5.936e-02 s=1.000e+00\n",
      "iter=   6 f=-4.691e-01 err=5.121e-02 s=4.204e-02\n",
      "iter=   7 f=-4.691e-01 err=1.217e-02 s=4.768e-07\n",
      "iter=   8 f=-4.691e-01 err=1.730e-03 s=2.384e-07\n",
      "iter=   9 f=-4.691e-01 err=4.902e-04 s=2.384e-07\n",
      "iter=  10 f=-4.691e-01 err=1.300e-04 s=2.384e-07\n",
      "iter=  11 f=-4.691e-01 err=1.998e-04 s=4.768e-07\n",
      "iter=  12 f=-4.691e-01 err=7.331e-05 s=1.192e-07\n",
      "Success !!! Algorithm converged !!!\n"
     ]
    }
   ],
   "source": [
    "x0,costs,grad = optimize(P,batch_size = 1000)"
   ]
  },
  {
   "cell_type": "code",
   "execution_count": 279,
   "id": "7c62904c",
   "metadata": {
    "colab": {
     "base_uri": "https://localhost:8080/"
    },
    "executionInfo": {
     "elapsed": 224,
     "status": "ok",
     "timestamp": 1733315340375,
     "user": {
      "displayName": "natael natael",
      "userId": "18076419857196063994"
     },
     "user_tz": -60
    },
    "id": "7c62904c",
    "outputId": "cf68d835-6fca-4bfd-f20b-4f49d057f715"
   },
   "outputs": [
    {
     "data": {
      "text/plain": [
       "0.469145944184483"
      ]
     },
     "execution_count": 279,
     "metadata": {},
     "output_type": "execute_result"
    }
   ],
   "source": [
    "true_max = -costs[-1]\n",
    "\n",
    "true_max"
   ]
  },
  {
   "cell_type": "code",
   "execution_count": 280,
   "id": "e1ffe5cc",
   "metadata": {
    "colab": {
     "base_uri": "https://localhost:8080/"
    },
    "executionInfo": {
     "elapsed": 47045,
     "status": "ok",
     "timestamp": 1733315389686,
     "user": {
      "displayName": "natael natael",
      "userId": "18076419857196063994"
     },
     "user_tz": -60
    },
    "id": "e1ffe5cc",
    "outputId": "a3e7a44f-e5bf-40cc-b62f-eb19c75c6799"
   },
   "outputs": [
    {
     "name": "stdout",
     "output_type": "stream",
     "text": [
      "Epoch 1/20 - f: -4.318e-01 - grad_norm: 4.451e-01\n",
      "Epoch 2/20 - f: -4.471e-01 - grad_norm: 4.248e-01\n",
      "Epoch 3/20 - f: -4.620e-01 - grad_norm: 3.399e-01\n",
      "Epoch 4/20 - f: -4.683e-01 - grad_norm: 8.427e-02\n",
      "Epoch 5/20 - f: -4.686e-01 - grad_norm: 5.372e-02\n",
      "Epoch 6/20 - f: -4.691e-01 - grad_norm: 5.861e-02\n",
      "Epoch 7/20 - f: -4.688e-01 - grad_norm: 3.728e-02\n",
      "Epoch 8/20 - f: -4.689e-01 - grad_norm: 2.127e-02\n",
      "Epoch 9/20 - f: -4.690e-01 - grad_norm: 6.251e-03\n",
      "Epoch 10/20 - f: -4.689e-01 - grad_norm: 1.367e-02\n",
      "Epoch 11/20 - f: -4.690e-01 - grad_norm: 6.486e-04\n",
      "Epoch 12/20 - f: -4.689e-01 - grad_norm: 1.218e-02\n",
      "Epoch 13/20 - f: -4.690e-01 - grad_norm: 7.507e-03\n",
      "Epoch 14/20 - f: -4.690e-01 - grad_norm: 5.866e-03\n",
      "Epoch 15/20 - f: -4.690e-01 - grad_norm: 2.698e-03\n",
      "Epoch 16/20 - f: -4.690e-01 - grad_norm: 9.820e-04\n",
      "Epoch 17/20 - f: -4.690e-01 - grad_norm: 1.041e-02\n",
      "Epoch 18/20 - f: -4.689e-01 - grad_norm: 1.496e-02\n",
      "Epoch 19/20 - f: -4.690e-01 - grad_norm: 1.018e-02\n",
      "Epoch 20/20 - f: -4.690e-01 - grad_norm: 3.520e-03\n"
     ]
    }
   ],
   "source": [
    "x1,costs1,grad1=stochastic_optimize_epochs(P,batch_size = 10,seed=42)"
   ]
  },
  {
   "cell_type": "code",
   "execution_count": 281,
   "id": "ffcfb316",
   "metadata": {
    "executionInfo": {
     "elapsed": 237,
     "status": "ok",
     "timestamp": 1733315392202,
     "user": {
      "displayName": "natael natael",
      "userId": "18076419857196063994"
     },
     "user_tz": -60
    },
    "id": "ffcfb316"
   },
   "outputs": [
    {
     "data": {
      "text/plain": [
       "array([0.43184887, 0.44712596, 0.46204373, 0.46831805, 0.46859871,\n",
       "       0.46906003, 0.46884365, 0.46892477, 0.46895473, 0.46894464,\n",
       "       0.46895718, 0.46894735, 0.46895361, 0.46895504, 0.46895675,\n",
       "       0.46895714, 0.46895012, 0.46894536, 0.4689515 , 0.46895648])"
      ]
     },
     "execution_count": 281,
     "metadata": {},
     "output_type": "execute_result"
    }
   ],
   "source": [
    "costs1 = -np.array(costs1)\n",
    "costs1"
   ]
  },
  {
   "cell_type": "code",
   "execution_count": 282,
   "id": "7c42ad13",
   "metadata": {
    "colab": {
     "base_uri": "https://localhost:8080/"
    },
    "executionInfo": {
     "elapsed": 45938,
     "status": "ok",
     "timestamp": 1733315440615,
     "user": {
      "displayName": "natael natael",
      "userId": "18076419857196063994"
     },
     "user_tz": -60
    },
    "id": "7c42ad13",
    "outputId": "eec027b8-e30f-487d-9f5b-d6f75895c063"
   },
   "outputs": [
    {
     "name": "stdout",
     "output_type": "stream",
     "text": [
      "Epoch 1/20 - f: -4.203e-01 - grad_norm: 4.961e-01\n",
      "Epoch 2/20 - f: -4.315e-01 - grad_norm: 4.530e-01\n",
      "Epoch 3/20 - f: -4.401e-01 - grad_norm: 4.280e-01\n",
      "Epoch 4/20 - f: -4.491e-01 - grad_norm: 4.100e-01\n",
      "Epoch 5/20 - f: -4.567e-01 - grad_norm: 3.513e-01\n",
      "Epoch 6/20 - f: -4.624e-01 - grad_norm: 3.328e-01\n",
      "Epoch 7/20 - f: -4.679e-01 - grad_norm: 3.283e-01\n",
      "Epoch 8/20 - f: -4.685e-01 - grad_norm: 8.715e-02\n",
      "Epoch 9/20 - f: -4.683e-01 - grad_norm: 9.885e-02\n",
      "Epoch 10/20 - f: -4.686e-01 - grad_norm: 5.072e-02\n",
      "Epoch 11/20 - f: -4.688e-01 - grad_norm: 4.960e-02\n",
      "Epoch 12/20 - f: -4.690e-01 - grad_norm: 5.900e-02\n",
      "Epoch 13/20 - f: -4.691e-01 - grad_norm: 5.682e-02\n",
      "Epoch 14/20 - f: -4.688e-01 - grad_norm: 4.730e-02\n",
      "Epoch 15/20 - f: -4.688e-01 - grad_norm: 3.992e-02\n",
      "Epoch 16/20 - f: -4.689e-01 - grad_norm: 3.146e-02\n",
      "Epoch 17/20 - f: -4.689e-01 - grad_norm: 1.912e-02\n",
      "Epoch 18/20 - f: -4.689e-01 - grad_norm: 1.414e-02\n",
      "Epoch 19/20 - f: -4.690e-01 - grad_norm: 8.411e-03\n",
      "Epoch 20/20 - f: -4.690e-01 - grad_norm: 5.256e-03\n"
     ]
    }
   ],
   "source": [
    "x2,costs2,grad2=stochastic_optimize_epochs(P,batch_size = 20,seed=43)"
   ]
  },
  {
   "cell_type": "code",
   "execution_count": 283,
   "id": "491262bb",
   "metadata": {
    "executionInfo": {
     "elapsed": 222,
     "status": "ok",
     "timestamp": 1733315516837,
     "user": {
      "displayName": "natael natael",
      "userId": "18076419857196063994"
     },
     "user_tz": -60
    },
    "id": "491262bb"
   },
   "outputs": [
    {
     "data": {
      "text/plain": [
       "array([0.42031911, 0.43152108, 0.44012757, 0.44912297, 0.45670996,\n",
       "       0.46242551, 0.46789345, 0.46849312, 0.46832526, 0.46861946,\n",
       "       0.46875741, 0.46895107, 0.46911463, 0.46875654, 0.46882412,\n",
       "       0.46888005, 0.46893146, 0.46894369, 0.46895265, 0.46895547])"
      ]
     },
     "execution_count": 283,
     "metadata": {},
     "output_type": "execute_result"
    }
   ],
   "source": [
    "costs2 = -np.array(costs2)\n",
    "costs2"
   ]
  },
  {
   "cell_type": "code",
   "execution_count": 284,
   "id": "7d881d58",
   "metadata": {
    "colab": {
     "base_uri": "https://localhost:8080/"
    },
    "executionInfo": {
     "elapsed": 45719,
     "status": "ok",
     "timestamp": 1733315563995,
     "user": {
      "displayName": "natael natael",
      "userId": "18076419857196063994"
     },
     "user_tz": -60
    },
    "id": "7d881d58",
    "outputId": "22b1f3b2-2885-4a27-f1a7-9ed1af0afab0"
   },
   "outputs": [
    {
     "name": "stdout",
     "output_type": "stream",
     "text": [
      "Epoch 1/20 - f: -4.203e-01 - grad_norm: 4.961e-01\n",
      "Epoch 2/20 - f: -4.316e-01 - grad_norm: 4.517e-01\n",
      "Epoch 3/20 - f: -4.408e-01 - grad_norm: 4.268e-01\n",
      "Epoch 4/20 - f: -4.494e-01 - grad_norm: 4.070e-01\n",
      "Epoch 5/20 - f: -4.568e-01 - grad_norm: 3.484e-01\n",
      "Epoch 6/20 - f: -4.625e-01 - grad_norm: 3.324e-01\n",
      "Epoch 7/20 - f: -4.680e-01 - grad_norm: 3.250e-01\n",
      "Epoch 8/20 - f: -4.682e-01 - grad_norm: 1.040e-01\n",
      "Epoch 9/20 - f: -4.686e-01 - grad_norm: 5.368e-02\n",
      "Epoch 10/20 - f: -4.687e-01 - grad_norm: 4.707e-02\n",
      "Epoch 11/20 - f: -4.689e-01 - grad_norm: 5.676e-02\n",
      "Epoch 12/20 - f: -4.690e-01 - grad_norm: 5.904e-02\n",
      "Epoch 13/20 - f: -4.687e-01 - grad_norm: 5.389e-02\n",
      "Epoch 14/20 - f: -4.688e-01 - grad_norm: 4.437e-02\n",
      "Epoch 15/20 - f: -4.689e-01 - grad_norm: 3.348e-02\n",
      "Epoch 16/20 - f: -4.689e-01 - grad_norm: 2.466e-02\n",
      "Epoch 17/20 - f: -4.689e-01 - grad_norm: 1.780e-02\n",
      "Epoch 18/20 - f: -4.689e-01 - grad_norm: 1.605e-02\n",
      "Epoch 19/20 - f: -4.689e-01 - grad_norm: 1.337e-02\n",
      "Epoch 20/20 - f: -4.690e-01 - grad_norm: 9.372e-03\n"
     ]
    }
   ],
   "source": [
    "x3,costs3,grad3=stochastic_optimize_epochs(P,batch_size = 20,seed=44)"
   ]
  },
  {
   "cell_type": "code",
   "execution_count": 285,
   "id": "a896ba51",
   "metadata": {
    "executionInfo": {
     "elapsed": 211,
     "status": "ok",
     "timestamp": 1733315569518,
     "user": {
      "displayName": "natael natael",
      "userId": "18076419857196063994"
     },
     "user_tz": -60
    },
    "id": "a896ba51"
   },
   "outputs": [
    {
     "data": {
      "text/plain": [
       "array([0.42031675, 0.43159717, 0.44075579, 0.44937082, 0.45678789,\n",
       "       0.46250401, 0.46796918, 0.46819918, 0.46859895, 0.46871089,\n",
       "       0.46887637, 0.46903743, 0.46866961, 0.46878595, 0.46886842,\n",
       "       0.46891234, 0.46893514, 0.46893953, 0.46894521, 0.46895151])"
      ]
     },
     "execution_count": 285,
     "metadata": {},
     "output_type": "execute_result"
    }
   ],
   "source": [
    "costs3 = -np.array(costs3)\n",
    "costs3"
   ]
  },
  {
   "cell_type": "code",
   "execution_count": 286,
   "id": "ec308cb5",
   "metadata": {
    "colab": {
     "base_uri": "https://localhost:8080/"
    },
    "executionInfo": {
     "elapsed": 45726,
     "status": "ok",
     "timestamp": 1733315616300,
     "user": {
      "displayName": "natael natael",
      "userId": "18076419857196063994"
     },
     "user_tz": -60
    },
    "id": "ec308cb5",
    "outputId": "1f1069fe-4a39-4b80-873a-64f18fa89931"
   },
   "outputs": [
    {
     "name": "stdout",
     "output_type": "stream",
     "text": [
      "Epoch 1/20 - f: -4.204e-01 - grad_norm: 4.959e-01\n",
      "Epoch 2/20 - f: -4.318e-01 - grad_norm: 4.475e-01\n",
      "Epoch 3/20 - f: -4.407e-01 - grad_norm: 4.269e-01\n",
      "Epoch 4/20 - f: -4.496e-01 - grad_norm: 4.039e-01\n",
      "Epoch 5/20 - f: -4.567e-01 - grad_norm: 3.512e-01\n",
      "Epoch 6/20 - f: -4.625e-01 - grad_norm: 3.324e-01\n",
      "Epoch 7/20 - f: -4.680e-01 - grad_norm: 3.211e-01\n",
      "Epoch 8/20 - f: -4.682e-01 - grad_norm: 1.037e-01\n",
      "Epoch 9/20 - f: -4.684e-01 - grad_norm: 9.205e-02\n",
      "Epoch 10/20 - f: -4.686e-01 - grad_norm: 5.339e-02\n",
      "Epoch 11/20 - f: -4.688e-01 - grad_norm: 5.253e-02\n",
      "Epoch 12/20 - f: -4.689e-01 - grad_norm: 5.895e-02\n",
      "Epoch 13/20 - f: -4.691e-01 - grad_norm: 5.672e-02\n",
      "Epoch 14/20 - f: -4.688e-01 - grad_norm: 4.672e-02\n",
      "Epoch 15/20 - f: -4.688e-01 - grad_norm: 3.702e-02\n",
      "Epoch 16/20 - f: -4.689e-01 - grad_norm: 2.626e-02\n",
      "Epoch 17/20 - f: -4.689e-01 - grad_norm: 1.829e-02\n",
      "Epoch 18/20 - f: -4.689e-01 - grad_norm: 1.217e-02\n",
      "Epoch 19/20 - f: -4.690e-01 - grad_norm: 8.452e-03\n",
      "Epoch 20/20 - f: -4.690e-01 - grad_norm: 6.161e-03\n"
     ]
    }
   ],
   "source": [
    "x4,costs4,grad4=stochastic_optimize_epochs(P,batch_size = 20,seed=45)"
   ]
  },
  {
   "cell_type": "code",
   "execution_count": 287,
   "id": "db877adb",
   "metadata": {
    "executionInfo": {
     "elapsed": 226,
     "status": "ok",
     "timestamp": 1733315621736,
     "user": {
      "displayName": "natael natael",
      "userId": "18076419857196063994"
     },
     "user_tz": -60
    },
    "id": "db877adb"
   },
   "outputs": [
    {
     "data": {
      "text/plain": [
       "array([0.42036906, 0.43177531, 0.44071324, 0.44960025, 0.45672797,\n",
       "       0.46251831, 0.4680252 , 0.46818227, 0.46838568, 0.46860079,\n",
       "       0.46880084, 0.46894781, 0.46911712, 0.46876275, 0.46884548,\n",
       "       0.46890566, 0.4689338 , 0.46894736, 0.46895261, 0.46895481])"
      ]
     },
     "execution_count": 287,
     "metadata": {},
     "output_type": "execute_result"
    }
   ],
   "source": [
    "costs4 = -np.array(costs4)\n",
    "costs4"
   ]
  },
  {
   "cell_type": "code",
   "execution_count": 288,
   "id": "7c2b440f",
   "metadata": {
    "colab": {
     "base_uri": "https://localhost:8080/"
    },
    "executionInfo": {
     "elapsed": 46152,
     "status": "ok",
     "timestamp": 1733315670078,
     "user": {
      "displayName": "natael natael",
      "userId": "18076419857196063994"
     },
     "user_tz": -60
    },
    "id": "7c2b440f",
    "outputId": "8df27bf2-6435-4c4d-8fab-29f1c588b416"
   },
   "outputs": [
    {
     "name": "stdout",
     "output_type": "stream",
     "text": [
      "Epoch 1/20 - f: -4.204e-01 - grad_norm: 4.959e-01\n",
      "Epoch 2/20 - f: -4.316e-01 - grad_norm: 4.524e-01\n",
      "Epoch 3/20 - f: -4.407e-01 - grad_norm: 4.268e-01\n",
      "Epoch 4/20 - f: -4.496e-01 - grad_norm: 4.042e-01\n",
      "Epoch 5/20 - f: -4.566e-01 - grad_norm: 3.580e-01\n",
      "Epoch 6/20 - f: -4.624e-01 - grad_norm: 3.330e-01\n",
      "Epoch 7/20 - f: -4.679e-01 - grad_norm: 3.279e-01\n",
      "Epoch 8/20 - f: -4.683e-01 - grad_norm: 9.832e-02\n",
      "Epoch 9/20 - f: -4.686e-01 - grad_norm: 5.140e-02\n",
      "Epoch 10/20 - f: -4.687e-01 - grad_norm: 4.694e-02\n",
      "Epoch 11/20 - f: -4.688e-01 - grad_norm: 5.355e-02\n",
      "Epoch 12/20 - f: -4.690e-01 - grad_norm: 5.928e-02\n",
      "Epoch 13/20 - f: -4.691e-01 - grad_norm: 5.567e-02\n",
      "Epoch 14/20 - f: -4.688e-01 - grad_norm: 4.620e-02\n",
      "Epoch 15/20 - f: -4.689e-01 - grad_norm: 3.502e-02\n",
      "Epoch 16/20 - f: -4.689e-01 - grad_norm: 2.405e-02\n",
      "Epoch 17/20 - f: -4.689e-01 - grad_norm: 1.754e-02\n",
      "Epoch 18/20 - f: -4.689e-01 - grad_norm: 1.800e-02\n",
      "Epoch 19/20 - f: -4.689e-01 - grad_norm: 1.181e-02\n",
      "Epoch 20/20 - f: -4.690e-01 - grad_norm: 7.602e-03\n"
     ]
    }
   ],
   "source": [
    "x5,costs5,grad5=stochastic_optimize_epochs(P,batch_size = 20,seed=46, max_epochs = 20)"
   ]
  },
  {
   "cell_type": "code",
   "execution_count": 289,
   "id": "9633c527",
   "metadata": {
    "executionInfo": {
     "elapsed": 242,
     "status": "ok",
     "timestamp": 1733315677779,
     "user": {
      "displayName": "natael natael",
      "userId": "18076419857196063994"
     },
     "user_tz": -60
    },
    "id": "9633c527"
   },
   "outputs": [
    {
     "data": {
      "text/plain": [
       "array([0.42037987, 0.43155645, 0.44073796, 0.44957374, 0.45656322,\n",
       "       0.46241061, 0.46791319, 0.46833094, 0.46861428, 0.46870706,\n",
       "       0.46881669, 0.46897361, 0.46913952, 0.4687681 , 0.46885884,\n",
       "       0.46891477, 0.46893581, 0.46893459, 0.46894797, 0.46895351])"
      ]
     },
     "execution_count": 289,
     "metadata": {},
     "output_type": "execute_result"
    }
   ],
   "source": [
    "costs5 = -np.array(costs5)\n",
    "costs5"
   ]
  },
  {
   "cell_type": "code",
   "execution_count": 290,
   "id": "72772309",
   "metadata": {
    "executionInfo": {
     "elapsed": 207,
     "status": "ok",
     "timestamp": 1733315678937,
     "user": {
      "displayName": "natael natael",
      "userId": "18076419857196063994"
     },
     "user_tz": -60
    },
    "id": "72772309"
   },
   "outputs": [
    {
     "data": {
      "text/plain": [
       "array([[0.43184887, 0.44712596, 0.46204373, 0.46831805, 0.46859871,\n",
       "        0.46906003, 0.46884365, 0.46892477, 0.46895473, 0.46894464,\n",
       "        0.46895718, 0.46894735, 0.46895361, 0.46895504, 0.46895675,\n",
       "        0.46895714, 0.46895012, 0.46894536, 0.4689515 , 0.46895648],\n",
       "       [0.42031911, 0.43152108, 0.44012757, 0.44912297, 0.45670996,\n",
       "        0.46242551, 0.46789345, 0.46849312, 0.46832526, 0.46861946,\n",
       "        0.46875741, 0.46895107, 0.46911463, 0.46875654, 0.46882412,\n",
       "        0.46888005, 0.46893146, 0.46894369, 0.46895265, 0.46895547],\n",
       "       [0.42031675, 0.43159717, 0.44075579, 0.44937082, 0.45678789,\n",
       "        0.46250401, 0.46796918, 0.46819918, 0.46859895, 0.46871089,\n",
       "        0.46887637, 0.46903743, 0.46866961, 0.46878595, 0.46886842,\n",
       "        0.46891234, 0.46893514, 0.46893953, 0.46894521, 0.46895151],\n",
       "       [0.42036906, 0.43177531, 0.44071324, 0.44960025, 0.45672797,\n",
       "        0.46251831, 0.4680252 , 0.46818227, 0.46838568, 0.46860079,\n",
       "        0.46880084, 0.46894781, 0.46911712, 0.46876275, 0.46884548,\n",
       "        0.46890566, 0.4689338 , 0.46894736, 0.46895261, 0.46895481],\n",
       "       [0.42037987, 0.43155645, 0.44073796, 0.44957374, 0.45656322,\n",
       "        0.46241061, 0.46791319, 0.46833094, 0.46861428, 0.46870706,\n",
       "        0.46881669, 0.46897361, 0.46913952, 0.4687681 , 0.46885884,\n",
       "        0.46891477, 0.46893581, 0.46893459, 0.46894797, 0.46895351]])"
      ]
     },
     "execution_count": 290,
     "metadata": {},
     "output_type": "execute_result"
    }
   ],
   "source": [
    "trajectoires = np.array([costs1,costs2,costs3,costs4,costs5])\n",
    "trajectoires"
   ]
  },
  {
   "cell_type": "code",
   "execution_count": 291,
   "id": "a13a3bc1",
   "metadata": {
    "colab": {
     "base_uri": "https://localhost:8080/",
     "height": 492
    },
    "executionInfo": {
     "elapsed": 683,
     "status": "ok",
     "timestamp": 1733315729260,
     "user": {
      "displayName": "natael natael",
      "userId": "18076419857196063994"
     },
     "user_tz": -60
    },
    "id": "a13a3bc1",
    "outputId": "14a2019b-0f7b-4304-fb3f-830603c34a46"
   },
   "outputs": [
    {
     "data": {
      "image/png": "[encoded data removed]",
      "text/plain": [
       "<Figure size 640x480 with 1 Axes>"
      ]
     },
     "metadata": {},
     "output_type": "display_data"
    }
   ],
   "source": [
    "\n",
    "# Calculating the mean and standard deviation across the 5 trajectories\n",
    "mean_values = trajectoires.mean(axis=0)\n",
    "std_values = trajectoires.std(axis=0)\n",
    "\n",
    "# Adding a horizontal dashed red line at the mean of the mean values\n",
    "#plt.figure(figsize=(10, 6))\n",
    "epochs = range(1, 21)\n",
    "plt.plot(epochs, mean_values, label=\"Mean Value\", color=\"blue\", linewidth=1.5)\n",
    "plt.fill_between(epochs, mean_values - std_values, mean_values + std_values, color=\"blue\", alpha=0.3, label=\"Standard Deviation\")\n",
    "plt.axhline(y=true_max, color='red', linestyle='--', linewidth=1.5, label=\"True max\")\n",
    "plt.xlabel(\"Epoch\")\n",
    "plt.ylabel(\"Function Value\")\n",
    "plt.title(\"Mean and Standard Deviation of Function Values over 20 Epochs\")\n",
    "plt.legend(loc='lower right')\n",
    "plt.grid(True)\n",
    "plt.show()\n",
    "\n"
   ]
  },
  {
   "cell_type": "code",
   "execution_count": null,
   "id": "10145359",
   "metadata": {
    "id": "10145359"
   },
   "outputs": [],
   "source": []
  },
  {
   "cell_type": "code",
   "execution_count": null,
   "id": "112c77aa",
   "metadata": {},
   "outputs": [],
   "source": []
  }
 ],
 "metadata": {
  "colab": {
   "provenance": []
  },
  "kernelspec": {
   "display_name": "Python 3 (ipykernel)",
   "language": "python",
   "name": "python3"
  },
  "language_info": {
   "codemirror_mode": {
    "name": "ipython",
    "version": 3
   },
   "file_extension": ".py",
   "mimetype": "text/x-python",
   "name": "python",
   "nbconvert_exporter": "python",
   "pygments_lexer": "ipython3",
   "version": "3.11.1"
  }
 },
 "nbformat": 4,
 "nbformat_minor": 5
}
