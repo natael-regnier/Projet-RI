{
 "cells": [
  {
   "cell_type": "code",
   "execution_count": 1,
   "id": "c5b44118",
   "metadata": {
    "colab": {
     "base_uri": "https://localhost:8080/"
    },
    "executionInfo": {
     "elapsed": 9077,
     "status": "ok",
     "timestamp": 1732535884865,
     "user": {
      "displayName": "natael natael",
      "userId": "18076419857196063994"
     },
     "user_tz": -60
    },
    "id": "c5b44118",
    "outputId": "c4ffa9db-2e44-498a-fd0a-4a70348896d4"
   },
   "outputs": [],
   "source": [
    "#!pip install pulp\n",
    "import numpy as np\n",
    "from pulp import LpMaximize, LpProblem, LpVariable, lpSum, value\n",
    "import torch\n",
    "import matplotlib.pyplot as plt\n",
    "import matplotlib.ticker as ticker\n",
    "import random\n",
    "torch.set_default_dtype(torch.float64)"
   ]
  },
  {
   "cell_type": "markdown",
   "id": "31f0854b",
   "metadata": {
    "id": "31f0854b"
   },
   "source": [
    "On cherche à résoudre\n",
    "\\begin{gather*}\n",
    "    \\max_{\\phi \\in \\mathcal{M}_{n,m}(\\mathbb{R})} \\sum_{i = 1}^{n} \\sum_{j = 1}^{m} \\phi_{i,j} V_{i,j} \\\\ \\text{avec } \\left\\{\n",
    "\\begin{array}{l}\n",
    "\\forall i \\in \\{1,\\dots n\\}, \\sum_{j = 1}^{m} \\phi_{i,j} = \\mu_i \\\\\n",
    "\\forall j, j' \\in \\{1, \\dots, m\\}, \\sum_{i = 1}^{n} \\phi_{i,j} \\left( U_{i,j} - U_{i,{j'}} \\right) \\geqslant 0 \\\\\n",
    "\\forall (i,j) \\in \\{1,\\dots n\\} \\times \\{1, \\dots, m\\}, \\phi_{i,j} \\geqslant 0\n",
    "\\end{array}\n",
    "\\right.\n",
    "\\end{gather*}"
   ]
  },
  {
   "cell_type": "markdown",
   "id": "c495ca1f",
   "metadata": {
    "id": "c495ca1f"
   },
   "source": [
    "La fonction ci-dessous prend en argument les matrices $U$, $V$ et le vecteur $\\mu$ et renvoie la matrice $\\phi$ optimale ainsi que la valeur max."
   ]
  },
  {
   "cell_type": "code",
   "execution_count": 2,
   "id": "2a8058d2",
   "metadata": {
    "executionInfo": {
     "elapsed": 250,
     "status": "ok",
     "timestamp": 1732535890890,
     "user": {
      "displayName": "natael natael",
      "userId": "18076419857196063994"
     },
     "user_tz": -60
    },
    "id": "2a8058d2"
   },
   "outputs": [],
   "source": [
    "# Function to solve the linear programming problem\n",
    "def solve_lp(U, V, mu):\n",
    "    n, m = U.shape  # Dimensions of the problem\n",
    "\n",
    "    # Create the LP problem\n",
    "    lp_problem = LpProblem(\"Linear_Programming_Problem\", LpMaximize)\n",
    "\n",
    "    # Decision variables: phi[i][j] for each pair (i, j)\n",
    "    phi = [[LpVariable(f\"phi_{i}_{j}\", lowBound=0) for j in range(m)] for i in range(n)]\n",
    "\n",
    "    # Objective function: Maximize sum(phi[i][j] * V[i][j])\n",
    "    lp_problem += lpSum(phi[i][j] * V[i][j] for i in range(n) for j in range(m)), \"Objective\"\n",
    "\n",
    "    # Constraint 1: sum(phi[i][j]) = mu[i] for all i\n",
    "    for i in range(n):\n",
    "        lp_problem += lpSum(phi[i][j] for j in range(m)) == mu[i], f\"mu_constraint_{i}\"\n",
    "\n",
    "    # Constraint 2: sum(phi[i][j] * U[i][j]) >= sum(phi[i][j] * U[i][j']) for all j, j'\n",
    "    for j in range(m):\n",
    "        for j_prime in range(m):\n",
    "            if j != j_prime:\n",
    "                lp_problem += (\n",
    "                    lpSum(phi[i][j] * (U[i][j] - U[i][j_prime]) for i in range(n)) >= 0,\n",
    "                    f\"U_constraint_{j}_{j_prime}\"\n",
    "                )\n",
    "\n",
    "    # Solve the problem\n",
    "    lp_problem.solve()\n",
    "\n",
    "    # Extract the solution\n",
    "    solution = np.array([[phi[i][j].varValue for j in range(m)] for i in range(n)])\n",
    "\n",
    "    max_value = value(lp_problem.objective)\n",
    "\n",
    "    return solution, max_value"
   ]
  },
  {
   "cell_type": "markdown",
   "id": "52fb17ef",
   "metadata": {
    "id": "52fb17ef"
   },
   "source": [
    "**Comportement du Sender en l'absence de signal :**\n",
    "\n",
    "Sans signal, le Receiver choisit l'action qui maximise l'espérance selon son a priori. Si plusieurs actions la maximisent, il choisit de manière uniforme parmi celles-ci. Les fonctions ci-dessous calculent les utilités espérées initiales (sans signal) du Receiver et du Sender en fonction des utilités $U$ et $V$ et de leur a priori $\\mu$."
   ]
  },
  {
   "cell_type": "code",
   "execution_count": 3,
   "id": "7553b1da",
   "metadata": {
    "executionInfo": {
     "elapsed": 234,
     "status": "ok",
     "timestamp": 1732535893830,
     "user": {
      "displayName": "natael natael",
      "userId": "18076419857196063994"
     },
     "user_tz": -60
    },
    "id": "7553b1da"
   },
   "outputs": [],
   "source": [
    "def expected_utilities(U, V, mu):\n",
    "    # Vérifier que les dimensions de U, V et mu correspondent\n",
    "    n, m = U.shape\n",
    "    if V.shape != U.shape or len(mu) != n:\n",
    "        raise ValueError(\"Les dimensions de U, V et mu doivent correspondre.\")\n",
    "\n",
    "    # Calculer le produit scalaire de mu avec chaque colonne de U pour le Receiver\n",
    "    dot_products_U = [np.dot(U[:, j], mu) for j in range(m)]\n",
    "    max_utility_receiver = max(dot_products_U)\n",
    "\n",
    "    # Trouver les indices des colonnes de U qui maximisent l'utilité pour le Receiver\n",
    "    optimal_actions = [j for j, value in enumerate(dot_products_U) if value == max_utility_receiver]\n",
    "\n",
    "    # Calculer le vecteur moyen pour les colonnes optimales de V pour le Sender\n",
    "    mean_vector_V = np.mean(V[:, optimal_actions], axis=1)\n",
    "    expected_utility_sender = np.dot(mean_vector_V, mu)\n",
    "\n",
    "    return max_utility_receiver, expected_utility_sender"
   ]
  },
  {
   "cell_type": "markdown",
   "id": "c8c903f3",
   "metadata": {
    "id": "c8c903f3"
   },
   "source": [
    "Application dans le cas du juge (Receiver) et du procureur (Sender) :\n",
    "\n",
    "- **$S = \\{s_1, s_2\\}$** où $s_1 = \\text{innocent}$ et $s_2 = \\text{coupable}$\n",
    "- **$A = \\{a_1, a_2\\}$** où $a_1 = \\text{acquitter}$ et $a_2 = \\text{condamner}$\n",
    "- **$U = \\begin{pmatrix} 1 & 0 \\\\ 0 & 1 \\end{pmatrix}$**\n",
    "- **$V = \\begin{pmatrix} 0 & 1 \\\\ 0 & 1 \\end{pmatrix}$**\n",
    "- **$\\mu = \\begin{pmatrix} \\alpha \\\\ 1 - \\alpha \\end{pmatrix}$**"
   ]
  },
  {
   "cell_type": "code",
   "execution_count": 4,
   "id": "a86fefac",
   "metadata": {
    "colab": {
     "base_uri": "https://localhost:8080/"
    },
    "executionInfo": {
     "elapsed": 252,
     "status": "ok",
     "timestamp": 1732535900813,
     "user": {
      "displayName": "natael natael",
      "userId": "18076419857196063994"
     },
     "user_tz": -60
    },
    "id": "a86fefac",
    "outputId": "99c505ea-6a14-410f-9358-f23ed2667659"
   },
   "outputs": [
    {
     "name": "stdout",
     "output_type": "stream",
     "text": [
      "Phi optimal:\n",
      "[[0.4 0.3]\n",
      " [0.  0.3]]\n",
      "Utilité espérée du procureur : 0.6\n",
      "Utilité espérée initiale du procureur : 0.0\n",
      "Utilité espérée du juge : 0.7\n",
      "Utilité espérée initiale du juge : 0.7\n"
     ]
    }
   ],
   "source": [
    "alpha = 0.7\n",
    "\n",
    "U = np.array([[1, 0],\n",
    "              [0, 1]])\n",
    "\n",
    "V = np.array([[0, 1],\n",
    "              [0, 1]])\n",
    "\n",
    "mu = np.array([alpha,\n",
    "               1 - alpha])\n",
    "\n",
    "phi, max_value = solve_lp(U, V, mu)\n",
    "\n",
    "utilitee_esperee_initiale_receiver, utilitee_esperee_initiale_sender = expected_utilities(U, V, mu)\n",
    "\n",
    "utilite_esperee_receiver = np.sum(np.array([phi[i,j]*U[i,j] for i in range(U.shape[0]) for j in range (U.shape[1])]))\n",
    "\n",
    "# Solve the problem\n",
    "\n",
    "\n",
    "# Display the solution\n",
    "print(\"Phi optimal:\")\n",
    "print(phi)\n",
    "print(f\"Utilité espérée du procureur : {max_value}\")\n",
    "print(f\"Utilité espérée initiale du procureur : {utilitee_esperee_initiale_sender}\")\n",
    "\n",
    "\n",
    "print(f\"Utilité espérée du juge : {utilite_esperee_receiver}\")\n",
    "print(f\"Utilité espérée initiale du juge : {utilitee_esperee_initiale_receiver}\")"
   ]
  },
  {
   "cell_type": "markdown",
   "id": "069a8f2e",
   "metadata": {
    "id": "069a8f2e"
   },
   "source": [
    "Maintenant, on veut résoudre\n",
    "\\begin{gather*}\n",
    "                    \\max_{\\pi \\in \\mathcal{M}_{n,m}(\\mathbb{R})} \\sum_{\\substack{1 \\leqslant i \\leqslant n \\\\ 1 \\leqslant j, k \\leqslant m}} \\theta_{k,j}(\\pi) \\pi_{i,k} \\mu_i V_{i,j}\\\\\n",
    "                \\text{avec }\n",
    "                \\left\\{\n",
    "                \\begin{array}{l}\n",
    "                \\forall i \\in \\{1,\\dots n\\}, \\sum_{k = 1}^{m} \\pi_{i,k} = 1 \\\\\n",
    "                \\forall (i,k) \\in \\{1,\\dots, n\\} \\times \\{1, \\dots, m\\}, \\pi_{i,k} \\geqslant 0\n",
    "                \\end{array}\n",
    "                \\right. \\\\\n",
    "                \\text{où } \\theta_{k,j}(\\pi) = \\frac{q_j\\exp\\left( \\frac{g_{k,j}}{\\varepsilon} \\right)}{\\sum_{j' = 1}^{m} q_{j'} \\exp\\left( \\frac{g_{k,j'}}{\\varepsilon} \\right)} \\text{ et } g_{k,j} = \\sum_{i = 1}^n \\frac{\\pi_{i,k}\\nu_i}{\\sum_{i' = 1}^{n}\\pi_{i',k}\\nu_{i'}} U_{i,j}\n",
    "\\end{gather*}"
   ]
  },
  {
   "cell_type": "markdown",
   "id": "bad2b2d9",
   "metadata": {
    "id": "bad2b2d9"
   },
   "source": [
    "On implémente la fonction objectif :"
   ]
  },
  {
   "cell_type": "code",
   "execution_count": 5,
   "id": "c6a2fe78",
   "metadata": {
    "executionInfo": {
     "elapsed": 218,
     "status": "ok",
     "timestamp": 1732535903788,
     "user": {
      "displayName": "natael natael",
      "userId": "18076419857196063994"
     },
     "user_tz": -60
    },
    "id": "c6a2fe78"
   },
   "outputs": [],
   "source": [
    "def compute_g(pi, U, nu):\n",
    "    n, m = U.shape\n",
    "    g = torch.zeros((m, m))  # Matrice g de dimension (m, m)\n",
    "\n",
    "    for k in range(m):\n",
    "        denominator = torch.sum(pi[:, k] * nu)  # Calcul du dénominateur pour chaque k\n",
    "        for j in range(m):\n",
    "            numerator = torch.sum(pi[:, k] * nu * U[:, j])  # Calcul du numérateur pour chaque j\n",
    "            g[k, j] = numerator / denominator  # Calcul de g_{k,j}\n",
    "\n",
    "    return g\n",
    "\n",
    "\n",
    "def compute_theta(pi, U, q, epsilon,nu):\n",
    "    g = compute_g(pi,U,nu)\n",
    "    m = g.shape[0]\n",
    "    theta = torch.zeros((m, m))  # Theta matrix of size (m, m)\n",
    "\n",
    "    for k in range(m):\n",
    "        max_g_k = torch.max(g[k, :])  # Maximum value in the k-th row of g\n",
    "        exp_terms = torch.exp((g[k, :] - max_g_k) / epsilon)  # Exponentials with max subtraction\n",
    "        denominator = torch.sum(q * exp_terms)  # Sum for normalizing each row of theta\n",
    "        for j in range(m):\n",
    "            theta[k, j] = q[j] * exp_terms[j] / denominator  # Final formula for theta_{k, j}\n",
    "\n",
    "    return theta\n",
    "\n",
    "\n",
    "def objective(pi, U, V, q, epsilon, nu, mu):\n",
    "    # Calculer g en utilisant pi, U, et nu\n",
    "    #g = compute_g(pi, U, nu)\n",
    "\n",
    "    # Calculer theta en utilisant g, q, et epsilon\n",
    "    theta = compute_theta(pi, U, q, epsilon,nu)\n",
    "\n",
    "    # Calcul de la fonction objectif\n",
    "    n, m = U.shape\n",
    "    objective_value = 0.0\n",
    "    for i in range(n):\n",
    "        for j in range(m):\n",
    "            for k in range(m):\n",
    "                objective_value += theta[k, j] * pi[i, k] * mu[i] * V[i, j]\n",
    "\n",
    "    return objective_value"
   ]
  },
  {
   "cell_type": "markdown",
   "id": "de60b160",
   "metadata": {
    "id": "de60b160"
   },
   "source": [
    "On implémente la fonction qui projette $\\pi$ sur les contraintes"
   ]
  },
  {
   "cell_type": "code",
   "execution_count": 6,
   "id": "f04f5c34",
   "metadata": {
    "executionInfo": {
     "elapsed": 242,
     "status": "ok",
     "timestamp": 1732535906308,
     "user": {
      "displayName": "natael natael",
      "userId": "18076419857196063994"
     },
     "user_tz": -60
    },
    "id": "f04f5c34"
   },
   "outputs": [],
   "source": [
    "def project_to_simplex(pi):\n",
    "    \"\"\"\n",
    "    Projette chaque ligne de la matrice pi sur le simplexe,\n",
    "    en s'assurant que chaque ligne somme à 1 et que les valeurs sont non-négatives.\n",
    "    \"\"\"\n",
    "    pi_projected = pi.clone()  # Créer une copie pour éviter l'in-place sur un tenseur avec grad\n",
    "    for i in range(pi.shape[0]):\n",
    "        row = pi[i, :]\n",
    "        sorted_row, _ = torch.sort(row, descending=True)\n",
    "        cumulative_sum = torch.cumsum(sorted_row, dim=0)\n",
    "\n",
    "        # Calcul de rho\n",
    "        rho = torch.nonzero(sorted_row * torch.arange(1, len(row) + 1) > (cumulative_sum - 1), as_tuple=False).max()\n",
    "\n",
    "        # Calcul du seuil theta\n",
    "        theta = (cumulative_sum[rho] - 1) / (rho + 1)\n",
    "\n",
    "        # Projection sur le simplexe\n",
    "        pi_projected[i, :] = torch.clamp(row - theta, min=0)\n",
    "\n",
    "    return pi_projected\n",
    "\n",
    "\n",
    "\n",
    "\n",
    "\n",
    "\n"
   ]
  },
  {
   "cell_type": "markdown",
   "id": "41646d72",
   "metadata": {
    "id": "41646d72"
   },
   "source": [
    "Testons une optimisation sur le problème du juge par montée de gradient projeté :\n",
    "$$\n",
    "\\pi_{k+1} =  \\Pi_X\\left(\\pi_k + h\\nabla f(\\pi_k)\\right)\n",
    "$$"
   ]
  },
  {
   "cell_type": "code",
   "execution_count": 7,
   "id": "61f65cf3",
   "metadata": {
    "executionInfo": {
     "elapsed": 237,
     "status": "ok",
     "timestamp": 1732535909194,
     "user": {
      "displayName": "natael natael",
      "userId": "18076419857196063994"
     },
     "user_tz": -60
    },
    "id": "61f65cf3"
   },
   "outputs": [],
   "source": [
    "alpha = 0.7\n",
    "beta = 0.9\n",
    "epsilon = 1e-3\n",
    "\n",
    "U = torch.tensor([[1.0, 0.0],\n",
    "                  [0.0, 1.0]])\n",
    "V = torch.tensor([[0.0, 1.0],\n",
    "                  [0.0, 1.0]])\n",
    "\n",
    "mu = torch.tensor([alpha, 1 - alpha])\n",
    "nu = mu\n",
    "q = torch.tensor([beta, 1 - beta])"
   ]
  },
  {
   "cell_type": "code",
   "execution_count": 8,
   "id": "f0e5731a",
   "metadata": {
    "colab": {
     "base_uri": "https://localhost:8080/",
     "height": 576
    },
    "executionInfo": {
     "elapsed": 1409,
     "status": "ok",
     "timestamp": 1732535913369,
     "user": {
      "displayName": "natael natael",
      "userId": "18076419857196063994"
     },
     "user_tz": -60
    },
    "id": "f0e5731a",
    "outputId": "b1c0e0c7-ab20-41ce-9570-9d934885b446"
   },
   "outputs": [
    {
     "name": "stdout",
     "output_type": "stream",
     "text": [
      "Convergence atteinte en 75 itérations\n",
      "pi optimal : \n",
      "tensor([[0.5792, 0.4208],\n",
      "        [0.0000, 1.0000]])\n",
      "Utilitée espérée Sender :\n",
      "0.5939919452392488\n"
     ]
    },
    {
     "data": {
      "image/png": "[encoded data removed]",
      "text/plain": [
       "<Figure size 640x480 with 1 Axes>"
      ]
     },
     "metadata": {},
     "output_type": "display_data"
    }
   ],
   "source": [
    "# Initialisation de pi avec des valeurs aléatoires\n",
    "#pi = torch.rand((2, 2), requires_grad=True)\n",
    "\n",
    "#pi = project_to_simplex(pi)\n",
    "\n",
    "pi = torch.tensor([[4/7, 3/7],\n",
    "                  [0, 1]],requires_grad = True) #on initialise avec le pi solution du problème où epsilon = 0\n",
    "\n",
    "\n",
    "# Paramètres pour le gradient ascendant\n",
    "learning_rate = epsilon\n",
    "max_iterations = 10000\n",
    "objective_values = []\n",
    "objective_change_threshold = 1e-6  # Seuil pour la différence de l'objectif\n",
    "\n",
    "for iteration in range(max_iterations):\n",
    "    pi = pi.clone().detach().requires_grad_(True)\n",
    "\n",
    "    # Calcul de la fonction objectif et du gradient\n",
    "    obj = objective(pi, U, V, q, epsilon, nu, mu)\n",
    "    obj.backward()\n",
    "\n",
    "    with torch.no_grad():\n",
    "        pi += learning_rate * pi.grad  # Maximisation\n",
    "        pi = project_to_simplex(pi)  # Projection sur le simplexe\n",
    "\n",
    "    # Enregistrer la valeur de l'objectif\n",
    "    objective_values.append(obj.item())\n",
    "\n",
    "    # Critère d'arrêt basé sur la variation de la fonction objectif\n",
    "    if iteration > 0 and abs(objective_values[-1] - objective_values[-2]) < objective_change_threshold:\n",
    "        print(f\"Convergence atteinte en {iteration} itérations\")\n",
    "        break\n",
    "\n",
    "# Résultats finaux\n",
    "print(\"pi optimal : \")\n",
    "print(pi)\n",
    "print(\"Utilitée espérée Sender :\")\n",
    "print(obj.item())\n",
    "\n",
    "# Tracer l'évolution de la fonction objectif\n",
    "plt.plot(objective_values[1:])\n",
    "plt.xlabel(\"Itérations\")\n",
    "plt.ylabel(\"Valeur de la fonction objectif\")\n",
    "plt.title(\"Valeurs de la fonction objectif en fonction des itérations\")\n",
    "#plt.gca().xaxis.set_major_locator(ticker.MaxNLocator(integer=True))\n",
    "def format_func(value, tick_number):\n",
    "    return f\"{int(value) + 1}\"\n",
    "\n",
    "plt.gca().xaxis.set_major_locator(ticker.MaxNLocator(integer=True))\n",
    "plt.gca().xaxis.set_major_formatter(plt.FuncFormatter(format_func))\n",
    "plt.show()"
   ]
  },
  {
   "cell_type": "markdown",
   "id": "dfc91f7f",
   "metadata": {
    "id": "dfc91f7f"
   },
   "source": [
    "Analysons la valeur du max lorsque epsilon tend vers 0 (c'est-à-dire lorsqu'on \"tend vers le premier modèle\")"
   ]
  },
  {
   "cell_type": "code",
   "execution_count": 9,
   "id": "8aeef824",
   "metadata": {
    "colab": {
     "base_uri": "https://localhost:8080/",
     "height": 487
    },
    "executionInfo": {
     "elapsed": 5140,
     "status": "ok",
     "timestamp": 1732535921330,
     "user": {
      "displayName": "natael natael",
      "userId": "18076419857196063994"
     },
     "user_tz": -60
    },
    "id": "8aeef824",
    "outputId": "2ac3be9f-0fef-4ace-be6e-69bf0fbab153"
   },
   "outputs": [
    {
     "data": {
      "image/png": "[encoded data removed]",
      "text/plain": [
       "<Figure size 640x480 with 1 Axes>"
      ]
     },
     "metadata": {},
     "output_type": "display_data"
    }
   ],
   "source": [
    "# Constants for the test\n",
    "max_iterations = 10000\n",
    "objective_change_threshold = 1e-6  # Threshold for change in the objective\n",
    "puissances = np.linspace(0, 4, 10)\n",
    "epsilon_values = [10 ** (-k) for k in puissances]  # Epsilon values to test\n",
    "max_objective_values = []  # List to store the maximum objective values\n",
    "norm_differences = []  # List to store the norms\n",
    "\n",
    "# Initial pi_0 for comparison\n",
    "pi_0 = torch.tensor([[4/7, 3/7], [0, 1]], dtype=torch.float32)\n",
    "\n",
    "# Loop over epsilon values\n",
    "for epsilon_value in epsilon_values:\n",
    "    # Initialize pi with desired values\n",
    "    pi = pi_0.clone().detach().requires_grad_(True)\n",
    "    objective_values = []  # Reset the list of objective values\n",
    "\n",
    "    # Gradient ascent\n",
    "    for iteration in range(max_iterations):\n",
    "        pi = pi.clone().detach().requires_grad_(True)\n",
    "\n",
    "        # Calculate the objective function and gradient\n",
    "        obj = objective(pi, U, V, q, epsilon_value, nu, mu)\n",
    "        obj.backward()\n",
    "\n",
    "        with torch.no_grad():\n",
    "            pi += epsilon_value * pi.grad  # Maximization\n",
    "            pi = project_to_simplex(pi)  # Project to the simplex\n",
    "\n",
    "        # Record the objective value\n",
    "        objective_values.append(obj.item())\n",
    "\n",
    "        # Stopping criterion based on the change in objective\n",
    "        if iteration > 0 and abs(objective_values[-1] - objective_values[-2]) < objective_change_threshold:\n",
    "            break\n",
    "\n",
    "    # Record the maximum objective value for this epsilon\n",
    "    max_objective_values.append(objective_values[-1])\n",
    "\n",
    "    # Compute the norm of (pi - pi_0) and store\n",
    "    #norm_difference = torch.norm(pi - pi_0).item()\n",
    "    #norm_differences.append(norm_difference)\n",
    "\n",
    "\n",
    "\n",
    "plt.scatter(np.array(puissances), max_objective_values, marker='x')\n",
    "plt.axhline(y=0.6, color='red', linestyle='--', label=\"Valeur maximale pour le premier modèle\")  # Red dashed line\n",
    "plt.xlabel(\"-log(epsilon)\")\n",
    "plt.ylabel(\"Valeur maximale de la fonction objectif\")\n",
    "plt.title(\"Valeur maximale de la fonction objectif en fonction de epsilon\")\n",
    "plt.legend()\n",
    "\n",
    "plt.tight_layout()\n",
    "plt.show()"
   ]
  },
  {
   "cell_type": "code",
   "execution_count": 10,
   "id": "55193e76",
   "metadata": {},
   "outputs": [],
   "source": [
    "def multiObjective(pi, U, V, q, epsilon, nu, mu, receivers):\n",
    "    obj = 0\n",
    "    for i in receivers:\n",
    "        obj += objective(pi,U[i],V,q[i],epsilon[i],nu[i],mu)\n",
    "    return obj/len(receivers)"
   ]
  },
  {
   "cell_type": "code",
   "execution_count": 11,
   "id": "4d22dfb2",
   "metadata": {},
   "outputs": [
    {
     "data": {
      "text/plain": [
       "(tensor([[ 0.9903, -0.1107],\n",
       "         [ 0.0201,  0.9263]]),\n",
       " tensor([0.5914, 0.4086]),\n",
       " tensor([0.6644, 0.3356]),\n",
       " 0.0009813269059086556)"
      ]
     },
     "execution_count": 11,
     "metadata": {},
     "output_type": "execute_result"
    }
   ],
   "source": [
    "# Paramètres initiaux\n",
    "alpha = 0.7\n",
    "beta = 0.9\n",
    "#epsilon = 1e-3\n",
    "\n",
    "U_initial = torch.tensor([[1.0, 0.0],\n",
    "                          [0.0, 1.0]])\n",
    "mu_initial = torch.tensor([alpha, 1 - alpha])\n",
    "nu_initial = mu_initial.clone()\n",
    "q_initial = torch.tensor([beta, 1 - beta])\n",
    "epsilon_initial = 1e-3\n",
    "\n",
    "# Nombre de variations\n",
    "num_variations = 1000\n",
    "\n",
    "receivers = np.arange(num_variations)\n",
    "\n",
    "# Facteurs de bruit\n",
    "noise_scale_U = 0.1\n",
    "noise_scale_vec = 0.05\n",
    "noise_scale_eps = 1e-4\n",
    "\n",
    "# Générer les variations\n",
    "U = [U_initial + noise_scale_U * torch.randn_like(U_initial) for _ in range(num_variations)]\n",
    "nu = [torch.softmax(nu_initial + noise_scale_vec * torch.randn_like(nu_initial), dim=0) for _ in range(num_variations)]\n",
    "q = [torch.softmax(q_initial + noise_scale_vec * torch.randn_like(q_initial), dim=0) for _ in range(num_variations)]\n",
    "epsilon = [epsilon_initial + noise_scale_eps * torch.randn(1).item() for _ in range(num_variations)]\n",
    "\n",
    "U[0], nu[0],q[0],epsilon[0]"
   ]
  },
  {
   "cell_type": "code",
   "execution_count": 73,
   "id": "0a827759",
   "metadata": {},
   "outputs": [
    {
     "data": {
      "text/plain": [
       "tensor([0.7141, 0.2859])"
      ]
     },
     "execution_count": 73,
     "metadata": {},
     "output_type": "execute_result"
    }
   ],
   "source": [
    "p = [0.9,0.1]\n",
    "noise = 0.5\n",
    "p = torch.tensor(p)\n",
    "p = torch.log(p) + noise*torch.randn_like(p)\n",
    "torch.softmax(p,dim=0)"
   ]
  },
  {
   "cell_type": "code",
   "execution_count": 13,
   "id": "acbd7836",
   "metadata": {},
   "outputs": [
    {
     "name": "stdout",
     "output_type": "stream",
     "text": [
      "pi optimal : \n",
      "tensor([[0.5355, 0.4645],\n",
      "        [0.0000, 1.0000]])\n",
      "Utilitée espérée Sender :\n",
      "0.591949448860278\n"
     ]
    },
    {
     "data": {
      "image/png": "[encoded data removed]",
      "text/plain": [
       "<Figure size 640x480 with 1 Axes>"
      ]
     },
     "metadata": {},
     "output_type": "display_data"
    }
   ],
   "source": [
    "# Initialisation de pi avec des valeurs aléatoires\n",
    "#pi = torch.rand((2, 2), requires_grad=True)\n",
    "\n",
    "#pi = project_to_simplex(pi)\n",
    "\n",
    "pi = torch.tensor([[4/7, 3/7],\n",
    "                  [0, 1]],requires_grad = True) #on initialise avec le pi solution du problème où epsilon = 0\n",
    "\n",
    "\n",
    "# Paramètres pour le gradient ascendant\n",
    "batch_size = 100\n",
    "learning_rate = epsilon_initial/10\n",
    "max_iterations = 100\n",
    "objective_values = []\n",
    "objective_change_threshold = 1e-6  # Seuil pour la différence de l'objectif\n",
    "\n",
    "for iteration in range(max_iterations):\n",
    "    pi = pi.clone().detach().requires_grad_(True)\n",
    "    \n",
    "    receivers_batch = np.random.choice(receivers, size=batch_size, replace=False)\n",
    "\n",
    "    # Calcul de la fonction objectif et du gradient\n",
    "    obj = multiObjective(pi, U, V, q, epsilon, nu, mu,receivers_batch)\n",
    "    obj.backward()\n",
    "\n",
    "    with torch.no_grad():\n",
    "        pi += (1/(iteration+1)) * pi.grad  # Maximisation\n",
    "        pi = project_to_simplex(pi)  # Projection sur le simplexe\n",
    "\n",
    "    # Enregistrer la valeur de l'objectif\n",
    "    objective_values.append(obj.item())\n",
    "\n",
    "    # Critère d'arrêt basé sur la variation de la fonction objectif\n",
    "    if iteration > 0 and abs(objective_values[-1] - objective_values[-2]) < objective_change_threshold:\n",
    "        print(f\"Convergence atteinte en {iteration} itérations\")\n",
    "        break\n",
    "\n",
    "# Résultats finaux\n",
    "print(\"pi optimal : \")\n",
    "print(pi)\n",
    "print(\"Utilitée espérée Sender :\")\n",
    "print(obj.item())\n",
    "\n",
    "# Tracer l'évolution de la fonction objectif\n",
    "plt.plot(objective_values[1:])\n",
    "plt.xlabel(\"Itérations\")\n",
    "plt.ylabel(\"Valeur de la fonction objectif\")\n",
    "plt.title(\"Valeurs de la fonction objectif en fonction des itérations\")\n",
    "#plt.gca().xaxis.set_major_locator(ticker.MaxNLocator(integer=True))\n",
    "def format_func(value, tick_number):\n",
    "    return f\"{int(value) + 1}\"\n",
    "\n",
    "plt.gca().xaxis.set_major_locator(ticker.MaxNLocator(integer=True))\n",
    "plt.gca().xaxis.set_major_formatter(plt.FuncFormatter(format_func))\n",
    "plt.show()"
   ]
  },
  {
   "cell_type": "code",
   "execution_count": null,
   "id": "c3ae7939",
   "metadata": {},
   "outputs": [],
   "source": []
  }
 ],
 "metadata": {
  "colab": {
   "provenance": []
  },
  "kernelspec": {
   "display_name": "Python 3 (ipykernel)",
   "language": "python",
   "name": "python3"
  },
  "language_info": {
   "codemirror_mode": {
    "name": "ipython",
    "version": 3
   },
   "file_extension": ".py",
   "mimetype": "text/x-python",
   "name": "python",
   "nbconvert_exporter": "python",
   "pygments_lexer": "ipython3",
   "version": "3.11.1"
  }
 },
 "nbformat": 4,
 "nbformat_minor": 5
}
