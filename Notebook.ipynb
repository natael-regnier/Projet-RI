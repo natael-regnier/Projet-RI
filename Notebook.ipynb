{
 "cells": [
  {
   "cell_type": "code",
   "execution_count": 10,
   "id": "c5b44118",
   "metadata": {},
   "outputs": [],
   "source": [
    "import numpy as np\n",
    "from pulp import LpMaximize, LpProblem, LpVariable, lpSum, value"
   ]
  },
  {
   "cell_type": "markdown",
   "id": "3ad72895",
   "metadata": {},
   "source": [
    "On cherche à résoudre\n",
    "\\begin{gather*}\n",
    "    \\max_{\\phi \\in \\mathcal{M}_{n,m}(\\mathbb{R})} \\sum_{i = 1}^{n} \\sum_{j = 1}^{m} \\phi_{i,j} V_{i,j} \\\\ \\text{avec } \\left\\{\n",
    "\\begin{array}{l}\n",
    "\\forall i \\in \\{1,\\dots n\\}, \\sum_{j = 1}^{m} \\phi_{i,j} = \\mu_i \\\\\n",
    "\\forall j, j' \\in \\{1, \\dots, m\\}, \\sum_{i = 1}^{n} \\phi_{i,j} \\left( U_{i,j} - U_{i,{j'}} \\right) \\geqslant 0 \\\\\n",
    "\\forall (i,j) \\in \\{1,\\dots n\\} \\times \\{1, \\dots, m\\}, \\phi_{i,j} \\geqslant 0\n",
    "\\end{array}\n",
    "\\right.\n",
    "\\end{gather*}"
   ]
  },
  {
   "cell_type": "markdown",
   "id": "c3798179",
   "metadata": {},
   "source": [
    "La fonction ci-dessous prend en argument les matrices $U$, $V$ et le vecteur $\\mu$ et renvoie la matrice $\\phi$ optimale ainsi que la valeur max."
   ]
  },
  {
   "cell_type": "code",
   "execution_count": 11,
   "id": "2a8058d2",
   "metadata": {},
   "outputs": [],
   "source": [
    "# Function to solve the linear programming problem\n",
    "def solve_lp(U, V, mu):\n",
    "    n, m = U.shape  # Dimensions of the problem\n",
    "\n",
    "    # Create the LP problem\n",
    "    lp_problem = LpProblem(\"Linear_Programming_Problem\", LpMaximize)\n",
    "\n",
    "    # Decision variables: phi[i][j] for each pair (i, j)\n",
    "    phi = [[LpVariable(f\"phi_{i}_{j}\", lowBound=0) for j in range(m)] for i in range(n)]\n",
    "\n",
    "    # Objective function: Maximize sum(phi[i][j] * V[i][j])\n",
    "    lp_problem += lpSum(phi[i][j] * V[i][j] for i in range(n) for j in range(m)), \"Objective\"\n",
    "\n",
    "    # Constraint 1: sum(phi[i][j]) = mu[i] for all i\n",
    "    for i in range(n):\n",
    "        lp_problem += lpSum(phi[i][j] for j in range(m)) == mu[i], f\"mu_constraint_{i}\"\n",
    "\n",
    "    # Constraint 2: sum(phi[i][j] * U[i][j]) >= sum(phi[i][j] * U[i][j']) for all j, j'\n",
    "    for j in range(m):\n",
    "        for j_prime in range(m):\n",
    "            if j != j_prime:\n",
    "                lp_problem += (\n",
    "                    lpSum(phi[i][j] * (U[i][j] - U[i][j_prime]) for i in range(n)) >= 0,\n",
    "                    f\"U_constraint_{j}_{j_prime}\"\n",
    "                )\n",
    "\n",
    "    # Solve the problem\n",
    "    lp_problem.solve()\n",
    "\n",
    "    # Extract the solution\n",
    "    solution = np.array([[phi[i][j].varValue for j in range(m)] for i in range(n)])\n",
    "    \n",
    "    max_value = value(lp_problem.objective)\n",
    "\n",
    "    return solution, max_value"
   ]
  },
  {
   "cell_type": "markdown",
   "id": "f81c1a63",
   "metadata": {},
   "source": [
    "**Comportement du Sender en l'absence de signal :**\n",
    "\n",
    "Sans signal, le Receiver choisit l'action qui maximise l'espérance selon son a priori. Si plusieurs actions la maximisent, il choisit de manière uniforme parmi celles-ci. Les fonctions ci-dessous calculent les utilités espérées initiales (sans signal) du Receiver et du Sender en fonction des utilités $U$ et $V$ et de leur a priori $\\mu$."
   ]
  },
  {
   "cell_type": "code",
   "execution_count": 12,
   "id": "7553b1da",
   "metadata": {},
   "outputs": [],
   "source": [
    "def expected_utilities(U, V, mu):\n",
    "    # Vérifier que les dimensions de U, V et mu correspondent\n",
    "    n, m = U.shape\n",
    "    if V.shape != U.shape or len(mu) != n:\n",
    "        raise ValueError(\"Les dimensions de U, V et mu doivent correspondre.\")\n",
    "    \n",
    "    # Calculer le produit scalaire de mu avec chaque colonne de U pour le Receiver\n",
    "    dot_products_U = [np.dot(U[:, j], mu) for j in range(m)]\n",
    "    max_utility_receiver = max(dot_products_U)\n",
    "    \n",
    "    # Trouver les indices des colonnes de U qui maximisent l'utilité pour le Receiver\n",
    "    optimal_actions = [j for j, value in enumerate(dot_products_U) if value == max_utility_receiver]\n",
    "    \n",
    "    # Calculer le vecteur moyen pour les colonnes optimales de V pour le Sender\n",
    "    mean_vector_V = np.mean(V[:, optimal_actions], axis=1)\n",
    "    expected_utility_sender = np.dot(mean_vector_V, mu)\n",
    "    \n",
    "    return max_utility_receiver, expected_utility_sender"
   ]
  },
  {
   "cell_type": "markdown",
   "id": "6f67f55d",
   "metadata": {},
   "source": [
    "Application dans le cas du juge (Receiver) et du procureur (Sender) :\n",
    "\n",
    "- **$S = \\{s_1, s_2\\}$** où $s_1 = \\text{innocent}$ et $s_2 = \\text{coupable}$\n",
    "- **$A = \\{a_1, a_2\\}$** où $a_1 = \\text{acquitter}$ et $a_2 = \\text{condamner}$\n",
    "- **$U = \\begin{pmatrix} 1 & 0 \\\\ 0 & 1 \\end{pmatrix}$**\n",
    "- **$V = \\begin{pmatrix} 0 & 1 \\\\ 0 & 1 \\end{pmatrix}$**\n",
    "- **$\\mu = \\begin{pmatrix} \\alpha \\\\ 1 - \\alpha \\end{pmatrix}$**"
   ]
  },
  {
   "cell_type": "code",
   "execution_count": 15,
   "id": "a86fefac",
   "metadata": {},
   "outputs": [
    {
     "name": "stdout",
     "output_type": "stream",
     "text": [
      "Phi optimal:\n",
      "[[0.4 0.3]\n",
      " [0.  0.3]]\n",
      "Utilité espérée du procureur : 0.6\n",
      "Utilité espérée initiale du procureur : 0.0\n",
      "Utilité espérée du juge : 0.7\n",
      "Utilité espérée initiale du juge : 0.7\n"
     ]
    }
   ],
   "source": [
    "alpha = 0.7\n",
    "\n",
    "U = np.array([[1, 0],\n",
    "              [0, 1]])\n",
    "\n",
    "V = np.array([[0, 1],\n",
    "              [0, 1]])\n",
    "\n",
    "mu = np.array([alpha,\n",
    "               1 - alpha])\n",
    "\n",
    "phi, max_value = solve_lp(U, V, mu)\n",
    "\n",
    "utilitee_esperee_initiale_receiver, utilitee_esperee_initiale_sender = expected_utilities(U, V, mu)\n",
    "\n",
    "utilite_esperee_receiver = np.sum(np.array([phi[i,j]*U[i,j] for i in range(U.shape[0]) for j in range (U.shape[1])]))\n",
    "\n",
    "# Solve the problem\n",
    "\n",
    "\n",
    "# Display the solution\n",
    "print(\"Phi optimal:\")\n",
    "print(phi)\n",
    "print(f\"Utilité espérée du procureur : {max_value}\")\n",
    "print(f\"Utilité espérée initiale du procureur : {utilitee_esperee_initiale_sender}\")\n",
    "\n",
    "\n",
    "print(f\"Utilité espérée du juge : {utilite_esperee_receiver}\")\n",
    "print(f\"Utilité espérée initiale du juge : {utilitee_esperee_initiale_receiver}\")"
   ]
  },
  {
   "cell_type": "markdown",
   "id": "cbdc5c47",
   "metadata": {},
   "source": [
    "Maintenant, on veut résoudre\n",
    "\\begin{gather*}\n",
    "                    \\max_{\\pi \\in \\mathcal{M}_{n,m}(\\mathbb{R})} \\sum_{\\substack{1 \\leqslant i \\leqslant n \\\\ 1 \\leqslant j, k \\leqslant m}} \\theta_{k,j}(\\pi) \\pi_{i,k} \\mu_i V_{i,j}\\\\\n",
    "                \\text{avec }\n",
    "                \\left\\{\n",
    "                \\begin{array}{l}\n",
    "                \\forall i \\in \\{1,\\dots n\\}, \\sum_{k = 1}^{m} \\pi_{i,k} = 1 \\\\\n",
    "                \\forall (i,k) \\in \\{1,\\dots, n\\} \\times \\{1, \\dots, m\\}, \\pi_{i,k} \\geqslant 0\n",
    "                \\end{array}\n",
    "                \\right. \\\\\n",
    "                \\text{où } \\theta_{k,j}(\\pi) = \\frac{q_j\\exp\\left( \\frac{g_{k,j}}{\\varepsilon} \\right)}{\\sum_{j' = 1}^{m} q_{j'} \\exp\\left( \\frac{g_{k,j'}}{\\varepsilon} \\right)} \\text{ et } g_{k,j} = \\sum_{i = 1}^n \\frac{\\pi_{i,k}\\nu_i}{\\sum_{i' = 1}^{n}\\pi_{i',k}\\nu_{i'}} U_{i,j}\n",
    "\\end{gather*}"
   ]
  },
  {
   "cell_type": "code",
   "execution_count": null,
   "id": "52220f4d",
   "metadata": {},
   "outputs": [],
   "source": []
  },
  {
   "cell_type": "code",
   "execution_count": null,
   "id": "c6a2fe78",
   "metadata": {},
   "outputs": [],
   "source": []
  }
 ],
 "metadata": {
  "kernelspec": {
   "display_name": "Python 3 (ipykernel)",
   "language": "python",
   "name": "python3"
  },
  "language_info": {
   "codemirror_mode": {
    "name": "ipython",
    "version": 3
   },
   "file_extension": ".py",
   "mimetype": "text/x-python",
   "name": "python",
   "nbconvert_exporter": "python",
   "pygments_lexer": "ipython3",
   "version": "3.11.1"
  }
 },
 "nbformat": 4,
 "nbformat_minor": 5
}
