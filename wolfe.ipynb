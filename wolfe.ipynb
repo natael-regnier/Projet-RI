{
 "cells": [
  {
   "cell_type": "code",
   "execution_count": null,
   "id": "3d11ff7f",
   "metadata": {},
   "outputs": [],
   "source": []
  },
  {
   "cell_type": "markdown",
   "id": "fc93def5",
   "metadata": {},
   "source": [
    "Tout d'abord on crée la fonction"
   ]
  },
  {
   "cell_type": "code",
   "execution_count": 20,
   "id": "1090b53c",
   "metadata": {},
   "outputs": [],
   "source": [
    "import numpy as np\n",
    "import torch\n",
    "torch.set_default_dtype(torch.float64)\n",
    "from scipy.sparse.linalg import LinearOperator\n",
    "\n",
    "class Problem() :\n",
    "    def __init__(self,U,V,mu,nu,nb_messages=None,varepsilon=None,q=None) :\n",
    "        ## L'ordre est (etat,message,action)\n",
    "        self.V=V # Utilité du sender de taille (etat,action)\n",
    "        self.mu=mu # Prior du sender de taille (etat)\n",
    "        self.U=U # Utilité du reciever de taille (etat,action)\n",
    "        self.nu=nu # Prior du reciever de taille (etat)\n",
    "        self.varepsilon=varepsilon # Multiplicateur d'attache à une stratégie a priori (réel)\n",
    "        self.q=q # Stratégie à priori du receiver de taille (messages,action)\n",
    "        self.nb_messages=nb_messages\n",
    "        self.check()\n",
    "        self.size=self.nb_messages*self.nb_states # size of the input vector f is a function of \\mathbb R^n to \\mathbb R\n",
    "        self.shape=(self.nb_states,self.nb_messages)\n",
    "    def check(self) :\n",
    "        self.nb_states, self.nb_actions=self.U.shape\n",
    "        self.debug_shape(self.V,[self.nb_states, self.nb_actions])\n",
    "        self.debug_shape(self.mu,[self.nb_states,])\n",
    "        self.debug_shape(self.nu,[self.nb_states,])\n",
    "        if self.q is not None :\n",
    "            m,a=self.q.shape\n",
    "            if self.nb_messages is None :\n",
    "                self.nb_messages=m\n",
    "            self.debug_shape(q,[self.nb_messages,self.nb_actions])\n",
    "        if self.nb_messages is None :\n",
    "            self.nb_messages=self.nb_actions\n",
    "        if self.q is None and self.varepsilon is not None :\n",
    "            self.q=np.ones((self.nb_messages,self.nb_actions))/self.nb_actions\n",
    "    def debug_shape(self,vect,target_shape) :\n",
    "        if not list(vect.shape)==target_shape :\n",
    "            print('Found a vector of size ', vect.shape, 'expected ',target_shape)\n",
    "            assert False\n",
    "    def verbose(self,pi) :\n",
    "        print('We have (state,message,action)=',self.nb_states,self.nb_messages,self.nb_actions)\n",
    "        self.debug_shape(pi,[self.nb_states,self.nb_messages])\n",
    "        theta=self.compute_theta(self.compute_g(pi))\n",
    "        self.debug_shape(theta,[self.nb_messages,self.nb_actions])\n",
    "        print('We have 1=',pi.sum(axis=1))\n",
    "        print('We have 1=',theta.sum(axis=1))\n",
    "        print('theta',theta)\n",
    "        print('objective',self.objective(pi))\n",
    "    def compute_g(self,pi):\n",
    "        denominator=(pi*self.nu[:,None]).sum(axis=0)\n",
    "        self.debug_shape(denominator,[self.nb_messages])\n",
    "        g=(pi[:,:,None]*self.nu[:,None,None]*self.U[:,None,:]).sum(axis=0)\n",
    "        self.debug_shape(g,[self.nb_messages,self.nb_actions])\n",
    "        return g/denominator[:,None]  \n",
    "    def compute_theta(self,g):\n",
    "        assert self.varepsilon is not None\n",
    "        max_g,_=g.max(axis=1)\n",
    "        exp=torch.exp((g-max_g[:,None])/self.varepsilon)\n",
    "        self.debug_shape(exp,[self.nb_messages,self.nb_actions])\n",
    "        theta=self.q*exp\n",
    "        denom=theta.sum(axis=1)\n",
    "        return theta/denom[:,None]\n",
    "    def objective(self,pi):\n",
    "        self.debug_shape(pi,[self.nb_states,self.nb_messages])\n",
    "        g = self.compute_g(pi) # Calculer g en utilisant pi, U, et nu\n",
    "        theta = self.compute_theta(g) # Calculer theta en utilisant g, q, et epsilon\n",
    "        return (theta[None,:,:]*pi[:,:,None]*self.mu[:,None,None]*self.V[:,None,:]).sum()\n",
    "    def project(self,x):\n",
    "        pi=torch.from_numpy(x)\n",
    "        pi_projected=torch.zeros_like(pi)\n",
    "        for i in range(pi.shape[0]):\n",
    "            row = pi[i, :]\n",
    "            sorted_row, _ = torch.sort(row, descending=True)\n",
    "            cumulative_sum = torch.cumsum(sorted_row, dim=0)\n",
    "            # Calcul de rho\n",
    "            rho = torch.nonzero(sorted_row * torch.arange(1, len(row) + 1) > (cumulative_sum - 1), as_tuple=False).max()\n",
    "            # Calcul du seuil theta\n",
    "            theta = (cumulative_sum[rho] - 1) / (rho + 1)\n",
    "            # Projection sur le simplexe\n",
    "            pi_projected[i, :] = torch.clamp(row - theta, min=0)\n",
    "        return pi_projected.numpy()\n",
    "    def project_tangent(self,x,d) :\n",
    "        d2=d-d.mean(axis=1)[:,None]\n",
    "        d2[(x==0)*(d2<0)] =0. \n",
    "        d2[(x==1)*(d2>0)] =0. \n",
    "        return d2\n",
    "    def value(self,x) : # returns the value of the function at point x wich is numpy\n",
    "        assert x.shape==self.shape\n",
    "        pi=torch.from_numpy(x).requires_grad_(True)\n",
    "        f=self.objective(pi)\n",
    "        f.backward()\n",
    "        df=pi.grad\n",
    "        return -f.item(),-df.numpy()\n",
    "        "
   ]
  },
  {
   "cell_type": "markdown",
   "id": "f77e02cd",
   "metadata": {},
   "source": [
    "Pour faire bien on lance un test de dérivée numérique"
   ]
  },
  {
   "cell_type": "code",
   "execution_count": 21,
   "id": "3f324169",
   "metadata": {},
   "outputs": [
    {
     "name": "stdout",
     "output_type": "stream",
     "text": [
      "We have (state,message,action)= 2 2 2\n",
      "We have 1= tensor([1., 1.])\n",
      "We have 1= tensor([1., 1.])\n",
      "theta tensor([[9.9999e-01, 5.0444e-06],\n",
      "        [9.0000e-01, 1.0000e-01]])\n",
      "objective tensor(0.0600)\n",
      "### test de la fonction value\n",
      "(-0.060002017764477666, array([[-3.53108784e-06,  5.60000000e-01],\n",
      "       [-3.17796378e-05, -3.00000000e-01]]))\n"
     ]
    }
   ],
   "source": [
    "alpha = 0.7\n",
    "beta = 0.9\n",
    "epsilon = 1e-1\n",
    "U = torch.tensor([[1.0, 0.0],\n",
    "                  [0.0, 1.0]])\n",
    "V = torch.tensor([[0.0, 1.0],\n",
    "                  [0.0, 1.0]])\n",
    "mu = torch.tensor([alpha, 1 - alpha])\n",
    "nu = mu\n",
    "q = torch.tensor([beta, 1 - beta]).expand(2,2)\n",
    "pi0 = torch.tensor([[4/7, 3/7],\n",
    "                  [0, 1]])\n",
    "\n",
    "P=Problem(U,V,mu,mu,varepsilon=epsilon,q=q)\n",
    "P.verbose(pi0)\n",
    "print('### test de la fonction value')\n",
    "x=pi0.numpy()\n",
    "print(P.value(x))\n",
    "    "
   ]
  },
  {
   "cell_type": "code",
   "execution_count": 22,
   "id": "92809240",
   "metadata": {},
   "outputs": [
    {
     "name": "stdout",
     "output_type": "stream",
     "text": [
      "We have (state,message,action)= 3 4 2\n",
      "We have 1= tensor([1.1429, 1.4286, 1.4286])\n",
      "We have 1= tensor([1., 1., 1., 1.])\n",
      "theta tensor([[9.9992e-01, 8.0434e-05],\n",
      "        [9.9992e-01, 8.0434e-05],\n",
      "        [4.0843e-04, 9.9959e-01],\n",
      "        [4.0843e-04, 9.9959e-01]])\n",
      "objective tensor(0.3000)\n"
     ]
    }
   ],
   "source": [
    "U = torch.tensor([[1.0, 0.0],\n",
    "                  [0.0, 1.0],[0.0, 1.0]])\n",
    "V = torch.tensor([[0.0, 1.0],\n",
    "                  [0.0, 1.0],[0.0, 1.0]])\n",
    "mu = torch.tensor([alpha, 0.5*(1 - alpha),0.5*(1 - alpha)])\n",
    "nu = mu\n",
    "q = torch.tensor([beta, 1 - beta]).expand(4,2)\n",
    "pi0 = torch.tensor([[4/7,4/7,0,0],\n",
    "                  [3/14,3/14,0.5,0.5],[3/14,3/14,0.5,0.5]])\n",
    "P=Problem(U,V,mu,mu,varepsilon=epsilon,q=q)\n",
    "P.verbose(pi0)"
   ]
  },
  {
   "cell_type": "code",
   "execution_count": 23,
   "id": "344eeb69",
   "metadata": {},
   "outputs": [
    {
     "name": "stdout",
     "output_type": "stream",
     "text": [
      "eps 1.0e-01 grad: (9.8e-01 =? 0)\n",
      "eps 1.0e-02 grad: (5.7e-02 =? 0)\n",
      "eps 1.0e-03 grad: (5.5e-03 =? 0)\n",
      "eps 1.0e-04 grad: (5.5e-04 =? 0)\n",
      "eps 1.0e-05 grad: (5.5e-05 =? 0)\n",
      "eps 1.0e-06 grad: (5.5e-06 =? 0)\n",
      "eps 1.0e-07 grad: (5.5e-07 =? 0)\n",
      "eps 1.0e-08 grad: (4.3e-08 =? 0)\n",
      "eps 1.0e-09 grad: (2.4e-07 =? 0)\n",
      "eps 1.0e-10 grad: (1.5e-06 =? 0)\n",
      "eps 1.0e-11 grad: (7.8e-06 =? 0)\n",
      "eps 1.0e-12 grad: (4.4e-05 =? 0)\n"
     ]
    }
   ],
   "source": [
    "def deriv_num(function,a,d) :\n",
    "    \"\"\"test numerically the derivative and the Hessian of a function.       \n",
    "    Parameters\n",
    "    ----------\n",
    "    function : instance of a class\n",
    "        The function to be tested it must have the following methods, where x is a 1d vector\n",
    "        of size n\n",
    "            -- function.eval(x) : evaluation of J at point x, must return a float\n",
    "            -- function.grad(x) : evaluation of the gradient of J at point x, must a 1d vector of size n\n",
    "    a : 1d vector of size n\n",
    "        Point at which the numerical derivatives are evaluated\n",
    "    d : 1d vector of size n\n",
    "        Direction in which the numerical derivatives are evaluated\n",
    "    \n",
    "   Ouput \n",
    "   -----\n",
    "   This function does not have an output, it prints a string s.\n",
    "    \"\"\"        \n",
    "    eps_range=[0.1**(i+1) for i in range(12)]\n",
    "    f0,df0=function.value(a)\n",
    "    for eps in  eps_range:\n",
    "        s='eps {:1.1e}'.format(eps)\n",
    "        f,_=function.value(a+eps*d)\n",
    "        ratio=(f-f0)/(eps*(df0*d).sum()) \n",
    "        s+=' grad: ({:1.1e} =? 0)'.format(np.abs(ratio-1)) \n",
    "        print(s)\n",
    "\n",
    "U = torch.tensor([[1.0, 0.0],\n",
    "                  [0.0, 1.0],[0.0, 1.0]])\n",
    "V = torch.tensor([[0.0, 1.0],\n",
    "                  [0.0, 1.0],[0.0, 1.0]])\n",
    "mu = torch.tensor([alpha, 0.5*(1 - alpha),0.5*(1 - alpha)])\n",
    "nu = mu\n",
    "q = torch.tensor([beta, 1 - beta]).expand(4,2)\n",
    "pi0 = torch.tensor([[4/7,4/7,0,0],\n",
    "                  [3/14,3/14,0.5,0.5],[3/14,3/14,0.5,0.5]])\n",
    "P=Problem(U,V,mu,mu,varepsilon=epsilon,q=q)\n",
    "\n",
    "np.random.seed(42)\n",
    "a=np.random.randn(P.size).reshape(P.shape)\n",
    "d=np.random.randn(P.size).reshape(P.shape)\n",
    "deriv_num(P,a,d)"
   ]
  },
  {
   "cell_type": "markdown",
   "id": "cc9178ca",
   "metadata": {},
   "source": [
    "On va maintenant charger une méthode linéaire de Wolfe"
   ]
  },
  {
   "cell_type": "code",
   "execution_count": 24,
   "id": "9f4ed2b8",
   "metadata": {},
   "outputs": [],
   "source": [
    "def dot(a,b) :\n",
    "    return (a*b).sum()\n",
    "    \n",
    "def ls_wolfe(x,function,step,descent,f,df) :\n",
    "    step_min,step_max=0.,np.inf\n",
    "    scal=dot(df,descent)\n",
    "    if scal > 0 :\n",
    "        print('WARNING with scal',scal)\n",
    "    step2=step\n",
    "    eps1,eps2=1.e-4,0.9\n",
    "    i=0\n",
    "    while i<100 :\n",
    "        i=i+1\n",
    "        x2=function.project(x+step2*descent)\n",
    "        f2,df2=function.value(x2)\n",
    "        if dot(x2-x,df) >=0 :\n",
    "            print('We have a problem',dot(x2-x,df),dot(descent,df))\n",
    "        if f2>f+eps1*dot(x2-x,df) : # step is too big, decrease it\n",
    "            step_max=step2\n",
    "            step2=0.5*(step_min+step_max)\n",
    "        else :\n",
    "            if dot(df2,x2-x) < eps2*dot(df,x2-x) : # step is too small, increase it\n",
    "                step_min=step2\n",
    "                step2=min(0.5*(step_min+step_max),2*step_min)\n",
    "            else :\n",
    "                return x2,f2,df2,step2\n",
    "    print('We do not exit Wolfe')\n",
    "    print(f2>f+eps1*step2*scal,dot(df2,descent) < eps2*scal)\n",
    "    return x2,f2,df2,step2\n",
    "    "
   ]
  },
  {
   "cell_type": "markdown",
   "id": "453ab717",
   "metadata": {},
   "source": []
  },
  {
   "cell_type": "code",
   "execution_count": null,
   "id": "09b1d0db",
   "metadata": {},
   "outputs": [],
   "source": []
  },
  {
   "cell_type": "markdown",
   "id": "123d0613",
   "metadata": {},
   "source": []
  },
  {
   "cell_type": "code",
   "execution_count": 25,
   "id": "ea133ca4",
   "metadata": {},
   "outputs": [],
   "source": [
    "\n",
    "def optimize(function,itermax = 1000,tol=1.e-6,verbose=True):\n",
    "    np.random.seed(42)\n",
    "    x=np.random.randn(function.size).reshape(function.shape)\n",
    "    x=function.project(x)\n",
    "    list_costs=[]\n",
    "    list_grads=[]\n",
    "    nbiter = 0\n",
    "    f,df=function.value(x)\n",
    "    df_tangent=function.project_tangent(x,-df)\n",
    "    norm_grad=np.linalg.norm(df_tangent)\n",
    "    err=2*tol\n",
    "    if verbose :  \n",
    "        print('iter={:4d} f={:1.3e} df={:1.3e}'.format(nbiter,f,err))\n",
    "    list_costs.append(f)\n",
    "    list_grads.append(norm_grad)\n",
    "    while (err > tol) and (nbiter < itermax):\n",
    "        descent=-df\n",
    "        x_old=np.copy(x)\n",
    "        x,f,df,step = ls_wolfe(x, function,1., descent,f,df)\n",
    "        norm_grad = np.linalg.norm(function.project_tangent(x,-df))\n",
    "        list_costs.append(f)\n",
    "        list_grads.append(norm_grad)\n",
    "        err=norm_grad\n",
    "        nbiter+=1\n",
    "        if verbose : \n",
    "            print('iter={:4d} f={:1.3e} err={:1.3e} s={:1.3e}'.format(nbiter,f,err,step))\n",
    "        if (err <= tol):\n",
    "            if verbose : print(\"Success !!! Algorithm converged !!!\")\n",
    "            return x,list_costs,list_grads\n",
    "    if verbose : print(\"FAILED to converge\")"
   ]
  },
  {
   "cell_type": "markdown",
   "id": "c09a8c1a",
   "metadata": {},
   "source": [
    "Et on obtient\n"
   ]
  },
  {
   "cell_type": "code",
   "execution_count": 26,
   "id": "f4fec3be",
   "metadata": {},
   "outputs": [
    {
     "name": "stdout",
     "output_type": "stream",
     "text": [
      "iter=   0 f=-4.091e-01 df=2.000e-05\n",
      "iter=   1 f=-5.873e-01 err=6.871e+00 s=6.875e-01\n",
      "iter=   2 f=-5.896e-01 err=4.949e-01 s=1.953e-03\n",
      "iter=   3 f=-5.933e-01 err=4.305e-01 s=1.562e-02\n",
      "iter=   4 f=-5.938e-01 err=5.884e-01 s=7.812e-03\n",
      "iter=   5 f=-5.940e-01 err=8.065e-02 s=1.953e-03\n",
      "iter=   6 f=-5.940e-01 err=4.448e-02 s=3.906e-03\n",
      "iter=   7 f=-5.940e-01 err=2.858e-02 s=3.906e-03\n",
      "iter=   8 f=-5.940e-01 err=1.714e-02 s=3.906e-03\n",
      "iter=   9 f=-5.940e-01 err=1.078e-02 s=3.906e-03\n",
      "iter=  10 f=-5.940e-01 err=6.605e-03 s=3.906e-03\n",
      "iter=  11 f=-5.940e-01 err=4.118e-03 s=3.906e-03\n",
      "iter=  12 f=-5.940e-01 err=2.540e-03 s=3.906e-03\n",
      "iter=  13 f=-5.940e-01 err=1.577e-03 s=3.906e-03\n",
      "iter=  14 f=-5.940e-01 err=9.754e-04 s=3.906e-03\n",
      "iter=  15 f=-5.940e-01 err=6.048e-04 s=3.906e-03\n",
      "iter=  16 f=-5.940e-01 err=3.744e-04 s=3.906e-03\n",
      "iter=  17 f=-5.940e-01 err=2.320e-04 s=3.906e-03\n",
      "iter=  18 f=-5.940e-01 err=1.437e-04 s=3.906e-03\n",
      "iter=  19 f=-5.940e-01 err=8.901e-05 s=3.906e-03\n",
      "iter=  20 f=-5.940e-01 err=5.513e-05 s=3.906e-03\n",
      "iter=  21 f=-5.940e-01 err=3.415e-05 s=3.906e-03\n",
      "iter=  22 f=-5.940e-01 err=2.115e-05 s=3.906e-03\n",
      "iter=  23 f=-5.940e-01 err=1.310e-05 s=3.906e-03\n",
      "iter=  24 f=-5.940e-01 err=8.117e-06 s=3.906e-03\n",
      "Success !!! Algorithm converged !!!\n"
     ]
    }
   ],
   "source": [
    "alpha = 0.7\n",
    "beta = 0.9\n",
    "epsilon = 1e-3\n",
    "U = torch.tensor([[1.0, 0.0],\n",
    "                  [0.0, 1.0]])\n",
    "V = torch.tensor([[0.0, 1.0],\n",
    "                  [0.0, 1.0]])\n",
    "mu = torch.tensor([alpha, 1 - alpha])\n",
    "nu = mu\n",
    "q = torch.tensor([beta, 1 - beta]).expand(2,2)\n",
    "pi0 = torch.tensor([[4/7, 3/7],\n",
    "                  [0, 1]])\n",
    "P=Problem(U,V,mu,mu,varepsilon=epsilon,q=q)\n",
    "x,costs,grad=optimize(P,tol=1.e-5,verbose=True)"
   ]
  },
  {
   "cell_type": "code",
   "execution_count": 27,
   "id": "35c20432",
   "metadata": {},
   "outputs": [
    {
     "name": "stdout",
     "output_type": "stream",
     "text": [
      "[[0.57916921 0.42083079]\n",
      " [0.         1.        ]]\n"
     ]
    }
   ],
   "source": [
    "pi=x.reshape([P.nb_states,P.nb_messages])\n",
    "print(pi)"
   ]
  },
  {
   "cell_type": "code",
   "execution_count": null,
   "id": "a8d26320",
   "metadata": {},
   "outputs": [],
   "source": []
  },
  {
   "cell_type": "code",
   "execution_count": null,
   "id": "7195b8fa",
   "metadata": {},
   "outputs": [],
   "source": []
  }
 ],
 "metadata": {
  "kernelspec": {
   "display_name": "Python 3 (ipykernel)",
   "language": "python",
   "name": "python3"
  },
  "language_info": {
   "codemirror_mode": {
    "name": "ipython",
    "version": 3
   },
   "file_extension": ".py",
   "mimetype": "text/x-python",
   "name": "python",
   "nbconvert_exporter": "python",
   "pygments_lexer": "ipython3",
   "version": "3.9.13"
  }
 },
 "nbformat": 4,
 "nbformat_minor": 5
}
